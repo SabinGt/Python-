{
 "cells": [
  {
   "cell_type": "markdown",
   "id": "a40a65eb",
   "metadata": {},
   "source": [
    "#### USing The io module to implement file like object in memory... Store data in \n",
    "#### memory and handling it. "
   ]
  },
  {
   "cell_type": "code",
   "execution_count": 1,
   "id": "ccdced91",
   "metadata": {},
   "outputs": [],
   "source": [
    "#importing the io module\n",
    "import io\n"
   ]
  },
  {
   "cell_type": "code",
   "execution_count": 12,
   "id": "f2119bd3",
   "metadata": {},
   "outputs": [],
   "source": [
    "new_text = \"Learning python and data science.\""
   ]
  },
  {
   "cell_type": "code",
   "execution_count": 13,
   "id": "ac7d5f69",
   "metadata": {},
   "outputs": [],
   "source": [
    "file = io.StringIO(new_text)"
   ]
  },
  {
   "cell_type": "code",
   "execution_count": 14,
   "id": "847ff4c9",
   "metadata": {},
   "outputs": [
    {
     "data": {
      "text/plain": [
       "'Learning python and data science.'"
      ]
     },
     "execution_count": 14,
     "metadata": {},
     "output_type": "execute_result"
    }
   ],
   "source": [
    "file.read()"
   ]
  },
  {
   "cell_type": "code",
   "execution_count": 15,
   "id": "8ea50746",
   "metadata": {},
   "outputs": [
    {
     "data": {
      "text/plain": [
       "32"
      ]
     },
     "execution_count": 15,
     "metadata": {},
     "output_type": "execute_result"
    }
   ],
   "source": [
    "file.write(\"Master the Data Handling concept\")"
   ]
  },
  {
   "cell_type": "code",
   "execution_count": 16,
   "id": "216a562d",
   "metadata": {},
   "outputs": [
    {
     "data": {
      "text/plain": [
       "0"
      ]
     },
     "execution_count": 16,
     "metadata": {},
     "output_type": "execute_result"
    }
   ],
   "source": [
    "#place the cursor to the starting point\n",
    "file.seek(0)"
   ]
  },
  {
   "cell_type": "code",
   "execution_count": 17,
   "id": "23d01471",
   "metadata": {},
   "outputs": [
    {
     "data": {
      "text/plain": [
       "'Learning python and data science.Master the Data Handling concept'"
      ]
     },
     "execution_count": 17,
     "metadata": {},
     "output_type": "execute_result"
    }
   ],
   "source": [
    "file.read()"
   ]
  },
  {
   "cell_type": "markdown",
   "id": "1d860178",
   "metadata": {},
   "source": [
    "### OS Module"
   ]
  },
  {
   "cell_type": "markdown",
   "id": "0fcdbe58",
   "metadata": {},
   "source": [
    "#### using the os module to interact with Operating System\n",
    "#### Reading, writing, and deleting files\n",
    "#### Working wih directories and locations"
   ]
  },
  {
   "cell_type": "code",
   "execution_count": 19,
   "id": "a985dc5a",
   "metadata": {},
   "outputs": [],
   "source": [
    "import os"
   ]
  },
  {
   "cell_type": "code",
   "execution_count": 20,
   "id": "993be034",
   "metadata": {},
   "outputs": [
    {
     "data": {
      "text/plain": [
       "'C:\\\\Users\\\\mesab\\\\Desktop\\\\PythonWorkingFolder\\\\PythonDataHandling'"
      ]
     },
     "execution_count": 20,
     "metadata": {},
     "output_type": "execute_result"
    }
   ],
   "source": [
    "os.getcwd()"
   ]
  },
  {
   "cell_type": "code",
   "execution_count": 21,
   "id": "bae47719",
   "metadata": {},
   "outputs": [
    {
     "data": {
      "text/plain": [
       "['.ipynb_checkpoints', 'FileHandling.ipynb']"
      ]
     },
     "execution_count": 21,
     "metadata": {},
     "output_type": "execute_result"
    }
   ],
   "source": [
    "os.listdir()"
   ]
  },
  {
   "cell_type": "markdown",
   "id": "36914fca",
   "metadata": {},
   "source": [
    "### The shutil module  "
   ]
  },
  {
   "cell_type": "code",
   "execution_count": 22,
   "id": "fc1a2f33",
   "metadata": {},
   "outputs": [],
   "source": [
    "import shutil"
   ]
  },
  {
   "cell_type": "code",
   "execution_count": 25,
   "id": "f2d4a73f",
   "metadata": {},
   "outputs": [
    {
     "data": {
      "text/plain": [
       "'.\\\\Demo\\\\main.txt'"
      ]
     },
     "execution_count": 25,
     "metadata": {},
     "output_type": "execute_result"
    }
   ],
   "source": [
    "shutil.move('main.txt','.\\Demo')"
   ]
  },
  {
   "cell_type": "code",
   "execution_count": 26,
   "id": "6b0933f1",
   "metadata": {},
   "outputs": [
    {
     "data": {
      "text/plain": [
       "['main.txt']"
      ]
     },
     "execution_count": 26,
     "metadata": {},
     "output_type": "execute_result"
    }
   ],
   "source": [
    "os.listdir('.\\Demo')"
   ]
  },
  {
   "cell_type": "markdown",
   "id": "153e4b1f",
   "metadata": {},
   "source": [
    "### Send2trash"
   ]
  },
  {
   "cell_type": "code",
   "execution_count": 27,
   "id": "11295121",
   "metadata": {},
   "outputs": [
    {
     "name": "stdout",
     "output_type": "stream",
     "text": [
      "Requirement already satisfied: send2trash in e:\\anaconda\\lib\\site-packages (1.8.0)\n"
     ]
    }
   ],
   "source": [
    "!pip install send2trash"
   ]
  },
  {
   "cell_type": "code",
   "execution_count": 28,
   "id": "3a7b902e",
   "metadata": {},
   "outputs": [],
   "source": [
    "import send2trash"
   ]
  },
  {
   "cell_type": "code",
   "execution_count": 29,
   "id": "8be19cae",
   "metadata": {},
   "outputs": [
    {
     "data": {
      "text/plain": [
       "['.ipynb_checkpoints', 'Demo', 'FileHandling.ipynb']"
      ]
     },
     "execution_count": 29,
     "metadata": {},
     "output_type": "execute_result"
    }
   ],
   "source": [
    "os.listdir()"
   ]
  },
  {
   "cell_type": "code",
   "execution_count": 30,
   "id": "4ab58630",
   "metadata": {},
   "outputs": [],
   "source": [
    "send2trash.send2trash(\".\\Demo\\main.txt\")"
   ]
  },
  {
   "cell_type": "code",
   "execution_count": 31,
   "id": "9f4f0cfe",
   "metadata": {},
   "outputs": [
    {
     "data": {
      "text/plain": [
       "[]"
      ]
     },
     "execution_count": 31,
     "metadata": {},
     "output_type": "execute_result"
    }
   ],
   "source": [
    "os.listdir(\".\\Demo\")"
   ]
  },
  {
   "cell_type": "markdown",
   "id": "0e448570",
   "metadata": {},
   "source": [
    "### The zipfile library"
   ]
  },
  {
   "cell_type": "code",
   "execution_count": 32,
   "id": "775e385f",
   "metadata": {},
   "outputs": [],
   "source": [
    "new_file = open(\"demo1.txt\",\"w+\")"
   ]
  },
  {
   "cell_type": "code",
   "execution_count": 33,
   "id": "969b2dd5",
   "metadata": {},
   "outputs": [
    {
     "data": {
      "text/plain": [
       "18"
      ]
     },
     "execution_count": 33,
     "metadata": {},
     "output_type": "execute_result"
    }
   ],
   "source": [
    "new_file.write(\"This is the demo 1\")"
   ]
  },
  {
   "cell_type": "code",
   "execution_count": 34,
   "id": "8d454f47",
   "metadata": {},
   "outputs": [
    {
     "data": {
      "text/plain": [
       "0"
      ]
     },
     "execution_count": 34,
     "metadata": {},
     "output_type": "execute_result"
    }
   ],
   "source": [
    "new_file.seek(0)"
   ]
  },
  {
   "cell_type": "code",
   "execution_count": 35,
   "id": "096623c2",
   "metadata": {},
   "outputs": [
    {
     "data": {
      "text/plain": [
       "'This is the demo 1'"
      ]
     },
     "execution_count": 35,
     "metadata": {},
     "output_type": "execute_result"
    }
   ],
   "source": [
    "new_file.read()\n"
   ]
  },
  {
   "cell_type": "code",
   "execution_count": 36,
   "id": "c4e63b55",
   "metadata": {},
   "outputs": [],
   "source": [
    "new_file.close()"
   ]
  },
  {
   "cell_type": "code",
   "execution_count": 37,
   "id": "0edfb2f0",
   "metadata": {},
   "outputs": [],
   "source": [
    "new_file = open(\"demo2.txt\",\"w+\")"
   ]
  },
  {
   "cell_type": "code",
   "execution_count": 39,
   "id": "ac4b52ad",
   "metadata": {},
   "outputs": [
    {
     "data": {
      "text/plain": [
       "14"
      ]
     },
     "execution_count": 39,
     "metadata": {},
     "output_type": "execute_result"
    }
   ],
   "source": [
    "new_file.write(\"this is demo 2\")"
   ]
  },
  {
   "cell_type": "code",
   "execution_count": 40,
   "id": "41cef9df",
   "metadata": {},
   "outputs": [],
   "source": [
    "new_file.close()"
   ]
  },
  {
   "cell_type": "code",
   "execution_count": 41,
   "id": "bd60ad83",
   "metadata": {},
   "outputs": [],
   "source": [
    "import zipfile"
   ]
  },
  {
   "cell_type": "code",
   "execution_count": 44,
   "id": "86c7655b",
   "metadata": {},
   "outputs": [],
   "source": [
    "new_comp = zipfile.ZipFile(\"new_comp.zip\",\"w\")"
   ]
  },
  {
   "cell_type": "code",
   "execution_count": 45,
   "id": "47b879dd",
   "metadata": {},
   "outputs": [],
   "source": [
    "new_comp.write(\"demo1.txt\", compress_type = zipfile.ZIP_DEFLATED)"
   ]
  },
  {
   "cell_type": "code",
   "execution_count": 46,
   "id": "4da0011f",
   "metadata": {},
   "outputs": [],
   "source": [
    "new_comp.write(\"demo2.txt\", compress_type = zipfile.ZIP_DEFLATED)"
   ]
  },
  {
   "cell_type": "code",
   "execution_count": 47,
   "id": "a442153a",
   "metadata": {},
   "outputs": [],
   "source": [
    "new_comp.close()"
   ]
  },
  {
   "cell_type": "code",
   "execution_count": 48,
   "id": "c852cfee",
   "metadata": {},
   "outputs": [],
   "source": [
    "#read zip file\n",
    "new_extract = zipfile.ZipFile(\"new_comp.zip\",\"r\")"
   ]
  },
  {
   "cell_type": "code",
   "execution_count": 50,
   "id": "110e068c",
   "metadata": {},
   "outputs": [],
   "source": [
    "new_extract.extractall(\"ExtractedFolder\")"
   ]
  },
  {
   "cell_type": "code",
   "execution_count": 51,
   "id": "87fafce6",
   "metadata": {},
   "outputs": [],
   "source": [
    "send2trash.send2trash(\"./This is your content/\")"
   ]
  },
  {
   "cell_type": "code",
   "execution_count": null,
   "id": "0160c762",
   "metadata": {},
   "outputs": [],
   "source": []
  }
 ],
 "metadata": {
  "kernelspec": {
   "display_name": "Python 3 (ipykernel)",
   "language": "python",
   "name": "python3"
  },
  "language_info": {
   "codemirror_mode": {
    "name": "ipython",
    "version": 3
   },
   "file_extension": ".py",
   "mimetype": "text/x-python",
   "name": "python",
   "nbconvert_exporter": "python",
   "pygments_lexer": "ipython3",
   "version": "3.9.7"
  }
 },
 "nbformat": 4,
 "nbformat_minor": 5
}
