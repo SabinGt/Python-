{
 "cells": [
  {
   "cell_type": "markdown",
   "id": "71444c66",
   "metadata": {},
   "source": [
    "# String Data Type\n"
   ]
  },
  {
   "cell_type": "code",
   "execution_count": 1,
   "id": "898cd7c8",
   "metadata": {},
   "outputs": [
    {
     "data": {
      "text/plain": [
       "str"
      ]
     },
     "execution_count": 1,
     "metadata": {},
     "output_type": "execute_result"
    }
   ],
   "source": [
    "type(\"This is string\")"
   ]
  },
  {
   "cell_type": "code",
   "execution_count": 3,
   "id": "3f8c8ec7",
   "metadata": {},
   "outputs": [
    {
     "name": "stdout",
     "output_type": "stream",
     "text": [
      "hello world\n"
     ]
    },
    {
     "data": {
      "text/plain": [
       "str"
      ]
     },
     "execution_count": 3,
     "metadata": {},
     "output_type": "execute_result"
    }
   ],
   "source": [
    "# declaration \n",
    "message= \"hello world\"\n",
    "print(message)\n",
    "type(message)"
   ]
  },
  {
   "cell_type": "markdown",
   "id": "c595f2e4",
   "metadata": {},
   "source": [
    "### Stinrg are the character betwwen the quotes "
   ]
  },
  {
   "cell_type": "code",
   "execution_count": 5,
   "id": "c00fe4cd",
   "metadata": {},
   "outputs": [],
   "source": [
    "new_str=\"This is 'Demo'\""
   ]
  },
  {
   "cell_type": "code",
   "execution_count": 6,
   "id": "1194a40b",
   "metadata": {},
   "outputs": [
    {
     "data": {
      "text/plain": [
       "\"This is 'Demo'\""
      ]
     },
     "execution_count": 6,
     "metadata": {},
     "output_type": "execute_result"
    }
   ],
   "source": [
    "new_str"
   ]
  },
  {
   "cell_type": "code",
   "execution_count": 7,
   "id": "7b646285",
   "metadata": {},
   "outputs": [
    {
     "data": {
      "text/plain": [
       "'This is \"demo\"'"
      ]
     },
     "execution_count": 7,
     "metadata": {},
     "output_type": "execute_result"
    }
   ],
   "source": [
    "# use of escape character \n",
    "new_str2= \"This is \\\"demo\\\"\"\n",
    "new_str2"
   ]
  },
  {
   "cell_type": "code",
   "execution_count": 10,
   "id": "2569a962",
   "metadata": {},
   "outputs": [
    {
     "name": "stdout",
     "output_type": "stream",
     "text": [
      "Another One\n"
     ]
    },
    {
     "data": {
      "text/plain": [
       "14"
      ]
     },
     "execution_count": 10,
     "metadata": {},
     "output_type": "execute_result"
    }
   ],
   "source": [
    "# find the length of stirng \n",
    "\n",
    "print(\"The length of string \")\n",
    "len(new_str)"
   ]
  },
  {
   "cell_type": "code",
   "execution_count": 13,
   "id": "afa01e00",
   "metadata": {},
   "outputs": [
    {
     "name": "stdout",
     "output_type": "stream",
     "text": [
      "5\n"
     ]
    }
   ],
   "source": [
    "# finding the length of string without len function \n",
    "def findLen(str):\n",
    "    counter = 0    \n",
    "    for i in str:\n",
    "        counter += 1\n",
    "    return counter\n",
    "  \n",
    "  \n",
    "str = \"geeks\"\n",
    "print(findLen(str))"
   ]
  },
  {
   "cell_type": "code",
   "execution_count": 14,
   "id": "1e38f680",
   "metadata": {},
   "outputs": [
    {
     "data": {
      "text/plain": [
       "'T'"
      ]
     },
     "execution_count": 14,
     "metadata": {},
     "output_type": "execute_result"
    }
   ],
   "source": [
    "# index of array\n",
    "new_str[0]"
   ]
  },
  {
   "cell_type": "code",
   "execution_count": 15,
   "id": "42413a6d",
   "metadata": {},
   "outputs": [
    {
     "name": "stdout",
     "output_type": "stream",
     "text": [
      "THis is the\n",
      "example of \n",
      "the multiple lines \n",
      "of the string\n"
     ]
    }
   ],
   "source": [
    "# create multiple lines string \n",
    "\n",
    "multiple_str = \"\"\"THis is the\n",
    "example of \n",
    "the multiple lines \n",
    "of the string\"\"\"\n",
    "print(multiple_str)"
   ]
  },
  {
   "cell_type": "code",
   "execution_count": 16,
   "id": "2d974301",
   "metadata": {},
   "outputs": [
    {
     "name": "stdout",
     "output_type": "stream",
     "text": [
      "python Programming\n"
     ]
    }
   ],
   "source": [
    "# string concatination \n",
    "word1 = \"python\"\n",
    "word2= \"Programming\"\n",
    "fullText = word1 + \" \" + word2\n",
    "print(fullText)"
   ]
  },
  {
   "cell_type": "code",
   "execution_count": 17,
   "id": "6cb37e10",
   "metadata": {},
   "outputs": [
    {
     "data": {
      "text/plain": [
       "'pyth'"
      ]
     },
     "execution_count": 17,
     "metadata": {},
     "output_type": "execute_result"
    }
   ],
   "source": [
    "#indexing with start and end index \n",
    "\n",
    "fullText[0:4]"
   ]
  },
  {
   "cell_type": "code",
   "execution_count": 18,
   "id": "3343aef6",
   "metadata": {},
   "outputs": [
    {
     "data": {
      "text/plain": [
       "'g'"
      ]
     },
     "execution_count": 18,
     "metadata": {},
     "output_type": "execute_result"
    }
   ],
   "source": [
    "#negative index to acces from the last of the index\n",
    "\n",
    "fullText[-1]"
   ]
  },
  {
   "cell_type": "code",
   "execution_count": 21,
   "id": "ab3ac5e7",
   "metadata": {},
   "outputs": [
    {
     "name": "stdout",
     "output_type": "stream",
     "text": [
      "python \n",
      "Programming\n"
     ]
    }
   ],
   "source": [
    "#slicing \n",
    "print(fullText[:7])\n",
    "print(fullText[7:])"
   ]
  },
  {
   "cell_type": "code",
   "execution_count": 25,
   "id": "b614175b",
   "metadata": {},
   "outputs": [
    {
     "data": {
      "text/plain": [
       "'PYTHON PROGRAMMING'"
      ]
     },
     "execution_count": 25,
     "metadata": {},
     "output_type": "execute_result"
    }
   ],
   "source": [
    "# upper and lower case\n",
    "#fullText.lower()\n",
    "fullText.upper()\n"
   ]
  },
  {
   "cell_type": "code",
   "execution_count": null,
   "id": "825a386b",
   "metadata": {},
   "outputs": [],
   "source": []
  }
 ],
 "metadata": {
  "kernelspec": {
   "display_name": "Python 3 (ipykernel)",
   "language": "python",
   "name": "python3"
  },
  "language_info": {
   "codemirror_mode": {
    "name": "ipython",
    "version": 3
   },
   "file_extension": ".py",
   "mimetype": "text/x-python",
   "name": "python",
   "nbconvert_exporter": "python",
   "pygments_lexer": "ipython3",
   "version": "3.9.7"
  }
 },
 "nbformat": 4,
 "nbformat_minor": 5
}
