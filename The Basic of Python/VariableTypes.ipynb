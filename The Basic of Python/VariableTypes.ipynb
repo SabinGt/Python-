{
 "cells": [
  {
   "cell_type": "markdown",
   "id": "67c7a30b",
   "metadata": {},
   "source": [
    "<h1> Variables and types "
   ]
  },
  {
   "cell_type": "markdown",
   "id": "aca314a6",
   "metadata": {},
   "source": [
    "<ul>\n",
    "    <li> Must start with a letter or underscope</li>\n",
    "    <li> Cannot start with a number </li>\n",
    "    <li> Cannot contain any whitesapces</li>\n",
    "    <li> Cannot contain any math symbols</li>\n",
    "    <li> Cannot use any python keywords</li>\n",
    " </ul>\n",
    "        "
   ]
  },
  {
   "cell_type": "markdown",
   "id": "ff6a75da",
   "metadata": {},
   "source": [
    "# Basic Data Types\n"
   ]
  },
  {
   "cell_type": "markdown",
   "id": "bad04e3a",
   "metadata": {},
   "source": [
    "* Integer\n",
    "* Float\n",
    "* Boolean\n",
    "* String"
   ]
  },
  {
   "cell_type": "code",
   "execution_count": 2,
   "id": "7ee7078e",
   "metadata": {},
   "outputs": [
    {
     "name": "stdout",
     "output_type": "stream",
     "text": [
      "5\n",
      "10\n"
     ]
    }
   ],
   "source": [
    "# interger type\n",
    "x=5\n",
    "print(x)\n",
    "a=x+5\n",
    "print(a)"
   ]
  },
  {
   "cell_type": "code",
   "execution_count": 3,
   "id": "e900e432",
   "metadata": {},
   "outputs": [
    {
     "name": "stdout",
     "output_type": "stream",
     "text": [
      "5.5\n"
     ]
    }
   ],
   "source": [
    "# float type\n",
    "y=1.5\n",
    "z=y+2.5\n",
    "print(y+z)"
   ]
  },
  {
   "cell_type": "code",
   "execution_count": 4,
   "id": "4c9bc64c",
   "metadata": {},
   "outputs": [
    {
     "name": "stdout",
     "output_type": "stream",
     "text": [
      "True\n"
     ]
    }
   ],
   "source": [
    "# Boolean type \n",
    "t= True\n",
    "print(t)"
   ]
  },
  {
   "cell_type": "code",
   "execution_count": 13,
   "id": "631de689",
   "metadata": {},
   "outputs": [
    {
     "name": "stdout",
     "output_type": "stream",
     "text": [
      "Harry\n"
     ]
    }
   ],
   "source": [
    "# string type\n",
    "name=\"Harry\"\n",
    "print(name)"
   ]
  },
  {
   "cell_type": "markdown",
   "id": "4897de92",
   "metadata": {},
   "source": [
    "## type keyword "
   ]
  },
  {
   "cell_type": "code",
   "execution_count": 6,
   "id": "f0b711ba",
   "metadata": {},
   "outputs": [
    {
     "data": {
      "text/plain": [
       "str"
      ]
     },
     "execution_count": 6,
     "metadata": {},
     "output_type": "execute_result"
    }
   ],
   "source": [
    "type(name)"
   ]
  },
  {
   "cell_type": "code",
   "execution_count": 7,
   "id": "52bd5360",
   "metadata": {},
   "outputs": [
    {
     "data": {
      "text/plain": [
       "float"
      ]
     },
     "execution_count": 7,
     "metadata": {},
     "output_type": "execute_result"
    }
   ],
   "source": [
    "type(y)"
   ]
  },
  {
   "cell_type": "code",
   "execution_count": 8,
   "id": "ac08a2e9",
   "metadata": {},
   "outputs": [
    {
     "data": {
      "text/plain": [
       "bool"
      ]
     },
     "execution_count": 8,
     "metadata": {},
     "output_type": "execute_result"
    }
   ],
   "source": [
    "type(t)"
   ]
  },
  {
   "cell_type": "code",
   "execution_count": 9,
   "id": "134fd1de",
   "metadata": {},
   "outputs": [
    {
     "data": {
      "text/plain": [
       "int"
      ]
     },
     "execution_count": 9,
     "metadata": {},
     "output_type": "execute_result"
    }
   ],
   "source": [
    "type(a)"
   ]
  },
  {
   "cell_type": "code",
   "execution_count": 11,
   "id": "da7a21df",
   "metadata": {},
   "outputs": [
    {
     "data": {
      "text/plain": [
       "list"
      ]
     },
     "execution_count": 11,
     "metadata": {},
     "output_type": "execute_result"
    }
   ],
   "source": [
    "type([1, 2, 3])"
   ]
  },
  {
   "cell_type": "code",
   "execution_count": null,
   "id": "9fd900db",
   "metadata": {},
   "outputs": [],
   "source": []
  }
 ],
 "metadata": {
  "kernelspec": {
   "display_name": "Python 3 (ipykernel)",
   "language": "python",
   "name": "python3"
  },
  "language_info": {
   "codemirror_mode": {
    "name": "ipython",
    "version": 3
   },
   "file_extension": ".py",
   "mimetype": "text/x-python",
   "name": "python",
   "nbconvert_exporter": "python",
   "pygments_lexer": "ipython3",
   "version": "3.9.7"
  }
 },
 "nbformat": 4,
 "nbformat_minor": 5
}
