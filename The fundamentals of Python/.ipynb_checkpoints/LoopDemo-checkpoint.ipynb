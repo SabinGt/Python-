{
 "cells": [
  {
   "cell_type": "markdown",
   "id": "79bf2ceb",
   "metadata": {},
   "source": [
    "### While loop and For loop"
   ]
  },
  {
   "cell_type": "code",
   "execution_count": 5,
   "id": "f0774aa0",
   "metadata": {},
   "outputs": [
    {
     "name": "stdout",
     "output_type": "stream",
     "text": [
      "1\n",
      "2\n",
      "3\n",
      "4\n",
      "5\n",
      "6\n",
      "7\n",
      "8\n",
      "9\n"
     ]
    }
   ],
   "source": [
    "x = 1\n",
    "\n",
    "while x < 10 :\n",
    "    print(x)\n",
    "    x=x+1"
   ]
  },
  {
   "cell_type": "code",
   "execution_count": 6,
   "id": "b454d173",
   "metadata": {},
   "outputs": [
    {
     "name": "stdout",
     "output_type": "stream",
     "text": [
      "P\n",
      "r\n",
      "o\n",
      "g\n",
      "r\n",
      "a\n",
      "m\n",
      "m\n",
      "i\n",
      "n\n",
      "g\n"
     ]
    }
   ],
   "source": [
    "for chars in \"Programming\":\n",
    "    print(chars)"
   ]
  },
  {
   "cell_type": "code",
   "execution_count": 13,
   "id": "dddb9f4c",
   "metadata": {},
   "outputs": [
    {
     "name": "stdout",
     "output_type": "stream",
     "text": [
      "Programming\n",
      "Programming\n",
      "Programming\n",
      "Programming\n",
      "Programming\n"
     ]
    }
   ],
   "source": [
    "#from 0 to 4\n",
    "for i in range(5):\n",
    "    print(\"Programming\")"
   ]
  },
  {
   "cell_type": "code",
   "execution_count": 15,
   "id": "f92e62ac",
   "metadata": {},
   "outputs": [
    {
     "name": "stdout",
     "output_type": "stream",
     "text": [
      "Hello\n",
      "Hello\n",
      "Hello\n",
      "Hello\n"
     ]
    }
   ],
   "source": [
    "for i in range(5,9):\n",
    "    print(\"Hello\")"
   ]
  },
  {
   "cell_type": "code",
   "execution_count": 16,
   "id": "b6a9ffea",
   "metadata": {},
   "outputs": [
    {
     "name": "stdout",
     "output_type": "stream",
     "text": [
      "1\n",
      "2\n",
      "3\n",
      "4\n"
     ]
    }
   ],
   "source": [
    "for i in range(1,5):\n",
    "    print(i)"
   ]
  },
  {
   "cell_type": "code",
   "execution_count": 17,
   "id": "d26c3f94",
   "metadata": {},
   "outputs": [
    {
     "name": "stdout",
     "output_type": "stream",
     "text": [
      "1\n",
      "2\n",
      "3\n"
     ]
    }
   ],
   "source": [
    "for i in [1,2,3]:\n",
    "    print(i)"
   ]
  },
  {
   "cell_type": "code",
   "execution_count": 18,
   "id": "a20bc538",
   "metadata": {},
   "outputs": [
    {
     "name": "stdout",
     "output_type": "stream",
     "text": [
      "Key\n"
     ]
    }
   ],
   "source": [
    "for i in {\"Key\":\"value\"}:\n",
    "    print(i)"
   ]
  },
  {
   "cell_type": "markdown",
   "id": "00a1709b",
   "metadata": {},
   "source": [
    "## using break Statement "
   ]
  },
  {
   "cell_type": "code",
   "execution_count": 2,
   "id": "96fd10c1",
   "metadata": {},
   "outputs": [
    {
     "name": "stdout",
     "output_type": "stream",
     "text": [
      "0\n",
      "1\n",
      "2\n",
      "The last number in the loop is 3\n"
     ]
    }
   ],
   "source": [
    "for x in range(0,5):\n",
    "    if x == 3:\n",
    "        break\n",
    "    print(x)\n",
    "\n",
    "print(f\"The last number in the loop is {x}\")"
   ]
  },
  {
   "cell_type": "markdown",
   "id": "c65a4d37",
   "metadata": {},
   "source": [
    "## Using continue satatement "
   ]
  },
  {
   "cell_type": "code",
   "execution_count": 5,
   "id": "b775b057",
   "metadata": {},
   "outputs": [
    {
     "name": "stdout",
     "output_type": "stream",
     "text": [
      "0\n",
      "1\n",
      "2\n",
      "4\n",
      "The last number in the loop is 4\n",
      "3 is skipped\n"
     ]
    }
   ],
   "source": [
    "for x in range(0,5):\n",
    "    if x == 3:\n",
    "        a=x\n",
    "        continue\n",
    "    print(x)\n",
    "\n",
    "print(f\"The last number in the loop is {x}\")\n",
    "print(f\"{a} is skipped\")"
   ]
  },
  {
   "cell_type": "markdown",
   "id": "d24240e0",
   "metadata": {},
   "source": [
    "## Using for ... else "
   ]
  },
  {
   "cell_type": "code",
   "execution_count": 10,
   "id": "75cc8d0e",
   "metadata": {},
   "outputs": [
    {
     "name": "stdout",
     "output_type": "stream",
     "text": [
      "Program terminated\n"
     ]
    }
   ],
   "source": [
    "message = \"This is message\"\n",
    "\n",
    "for chars in message:\n",
    "    if chars ==\"s\":\n",
    "        print(\"Program terminated\")\n",
    "        break\n",
    "else:\n",
    "    print(\"There is no V\")"
   ]
  },
  {
   "cell_type": "markdown",
   "id": "d1d5bf04",
   "metadata": {},
   "source": [
    "## Check password"
   ]
  },
  {
   "cell_type": "code",
   "execution_count": 13,
   "id": "30229ada",
   "metadata": {},
   "outputs": [
    {
     "name": "stdout",
     "output_type": "stream",
     "text": [
      "Enter the password: ram\n",
      "Error, This is worng password.... Please try again!!!\n",
      "Enter the password: hari\n",
      "Error, This is worng password.... Please try again!!!\n",
      "Enter the password: sym\n",
      "Error, This is worng password.... Please try again!!!\n",
      "Enter the password: a\n",
      "Error, This is worng password.... Please try again!!!\n",
      "The process completed\n"
     ]
    }
   ],
   "source": [
    "for x in range(4):\n",
    "    password = input(\"Enter the password: \")\n",
    "    if(password == \"passcode\"):\n",
    "        break\n",
    "    print(\"Error, This is worng password.... Please try again!!!\")\n",
    "else:\n",
    "    print(\"The process completed\")"
   ]
  },
  {
   "cell_type": "code",
   "execution_count": null,
   "id": "04cc942e",
   "metadata": {},
   "outputs": [],
   "source": []
  }
 ],
 "metadata": {
  "kernelspec": {
   "display_name": "Python 3 (ipykernel)",
   "language": "python",
   "name": "python3"
  },
  "language_info": {
   "codemirror_mode": {
    "name": "ipython",
    "version": 3
   },
   "file_extension": ".py",
   "mimetype": "text/x-python",
   "name": "python",
   "nbconvert_exporter": "python",
   "pygments_lexer": "ipython3",
   "version": "3.9.7"
  }
 },
 "nbformat": 4,
 "nbformat_minor": 5
}
