{
 "cells": [
  {
   "cell_type": "markdown",
   "id": "eb6e2a1d",
   "metadata": {},
   "source": [
    "## Conditional keywords: if, elif, else "
   ]
  },
  {
   "cell_type": "code",
   "execution_count": 1,
   "id": "bf11fa66",
   "metadata": {},
   "outputs": [
    {
     "name": "stdout",
     "output_type": "stream",
     "text": [
      "this is True!\n"
     ]
    }
   ],
   "source": [
    "if True:\n",
    "    print(\"this is True!\")"
   ]
  },
  {
   "cell_type": "code",
   "execution_count": 2,
   "id": "31848ff5",
   "metadata": {},
   "outputs": [
    {
     "name": "stdout",
     "output_type": "stream",
     "text": [
      "3 is greater than 2\n"
     ]
    }
   ],
   "source": [
    "if(3>2):\n",
    "    print(\"3 is greater than 2\")\n"
   ]
  },
  {
   "cell_type": "code",
   "execution_count": 3,
   "id": "01c1d741",
   "metadata": {},
   "outputs": [
    {
     "name": "stdout",
     "output_type": "stream",
     "text": [
      "2 is less than 3\n"
     ]
    }
   ],
   "source": [
    "if(2>3):\n",
    "    print(\"2 is greater that 3\")\n",
    "else:\n",
    "    print(\"2 is less than 3\")"
   ]
  },
  {
   "cell_type": "code",
   "execution_count": 4,
   "id": "0d7a5e16",
   "metadata": {},
   "outputs": [],
   "source": [
    "if 10==3*2:\n",
    "    print(\"This is not executed\")"
   ]
  },
  {
   "cell_type": "code",
   "execution_count": 6,
   "id": "4292df80",
   "metadata": {},
   "outputs": [
    {
     "name": "stdout",
     "output_type": "stream",
     "text": [
      "The sting will be executed\n",
      "Thanks\n"
     ]
    }
   ],
   "source": [
    "x=15\n",
    "if(x >= 10):\n",
    "    print(\"The sting will be executed\")\n",
    "print(\"Thanks\")"
   ]
  },
  {
   "cell_type": "code",
   "execution_count": 8,
   "id": "2f8e9955",
   "metadata": {},
   "outputs": [
    {
     "name": "stdout",
     "output_type": "stream",
     "text": [
      "x greter than 10\n",
      "Thanks\n"
     ]
    }
   ],
   "source": [
    "if x > 10:\n",
    "    print(\"x greter than 10\")\n",
    "if x < 10:\n",
    "    print(\"x less than 10\")\n",
    "print(\"Thanks\")"
   ]
  },
  {
   "cell_type": "code",
   "execution_count": 9,
   "id": "e8ca083e",
   "metadata": {},
   "outputs": [
    {
     "name": "stdout",
     "output_type": "stream",
     "text": [
      "YOu are in the middle\n",
      "Thanks\n"
     ]
    }
   ],
   "source": [
    "x = 30\n",
    "if x > 30:\n",
    "    print(\"You are succeeded!\")\n",
    "elif(x==30):\n",
    "    print(\"YOu are in the middle\")\n",
    "else:\n",
    "    print(\"Sorry\")\n",
    "print(\"Thanks\")"
   ]
  },
  {
   "cell_type": "code",
   "execution_count": null,
   "id": "65ae0af7",
   "metadata": {},
   "outputs": [],
   "source": []
  }
 ],
 "metadata": {
  "kernelspec": {
   "display_name": "Python 3 (ipykernel)",
   "language": "python",
   "name": "python3"
  },
  "language_info": {
   "codemirror_mode": {
    "name": "ipython",
    "version": 3
   },
   "file_extension": ".py",
   "mimetype": "text/x-python",
   "name": "python",
   "nbconvert_exporter": "python",
   "pygments_lexer": "ipython3",
   "version": "3.9.7"
  }
 },
 "nbformat": 4,
 "nbformat_minor": 5
}
