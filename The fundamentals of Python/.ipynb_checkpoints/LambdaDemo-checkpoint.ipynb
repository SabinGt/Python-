{
 "cells": [
  {
   "cell_type": "markdown",
   "id": "4b0016d7",
   "metadata": {},
   "source": [
    "#### Function without name\n",
    "#### Lambda keyword\n",
    "#### Any number of expression \n",
    "#### Only one expression\n",
    "#### lanbda arguments: expression\n",
    "#### Return function objects"
   ]
  },
  {
   "cell_type": "code",
   "execution_count": 1,
   "id": "8fea125d",
   "metadata": {},
   "outputs": [],
   "source": [
    "multiply = lambda x:x*20"
   ]
  },
  {
   "cell_type": "code",
   "execution_count": 2,
   "id": "dde06cab",
   "metadata": {},
   "outputs": [
    {
     "name": "stdout",
     "output_type": "stream",
     "text": [
      "40\n"
     ]
    }
   ],
   "source": [
    "print(multiply(2))"
   ]
  },
  {
   "cell_type": "code",
   "execution_count": 3,
   "id": "59d1759d",
   "metadata": {},
   "outputs": [
    {
     "name": "stdout",
     "output_type": "stream",
     "text": [
      "60\n"
     ]
    }
   ],
   "source": [
    "print(multiply(3))"
   ]
  },
  {
   "cell_type": "code",
   "execution_count": 4,
   "id": "4408ebfc",
   "metadata": {},
   "outputs": [
    {
     "name": "stdout",
     "output_type": "stream",
     "text": [
      "1\n"
     ]
    }
   ],
   "source": [
    "remainder = lambda y:y%2\n",
    "print(remainder(9))"
   ]
  },
  {
   "cell_type": "code",
   "execution_count": 7,
   "id": "2e979bbf",
   "metadata": {},
   "outputs": [
    {
     "name": "stdout",
     "output_type": "stream",
     "text": [
      "0\n"
     ]
    }
   ],
   "source": [
    "print(remainder(14))"
   ]
  },
  {
   "cell_type": "code",
   "execution_count": 8,
   "id": "a3b21a50",
   "metadata": {},
   "outputs": [],
   "source": [
    "def testing(n):\n",
    "    return lambda i:i*n"
   ]
  },
  {
   "cell_type": "code",
   "execution_count": 14,
   "id": "cd19a88e",
   "metadata": {},
   "outputs": [],
   "source": [
    "r1 = testing(12) \n",
    "r2 = testing(13)"
   ]
  },
  {
   "cell_type": "code",
   "execution_count": 10,
   "id": "a529f3fe",
   "metadata": {},
   "outputs": [
    {
     "name": "stdout",
     "output_type": "stream",
     "text": [
      "60\n"
     ]
    }
   ],
   "source": [
    "print(r1(5))"
   ]
  },
  {
   "cell_type": "code",
   "execution_count": 11,
   "id": "85f85613",
   "metadata": {},
   "outputs": [
    {
     "name": "stdout",
     "output_type": "stream",
     "text": [
      "48\n"
     ]
    }
   ],
   "source": [
    "print(r1(4))"
   ]
  },
  {
   "cell_type": "code",
   "execution_count": 15,
   "id": "aee82a34",
   "metadata": {},
   "outputs": [
    {
     "name": "stdout",
     "output_type": "stream",
     "text": [
      "65\n"
     ]
    }
   ],
   "source": [
    "print(r2(5))"
   ]
  },
  {
   "cell_type": "code",
   "execution_count": null,
   "id": "feb51253",
   "metadata": {},
   "outputs": [],
   "source": []
  }
 ],
 "metadata": {
  "kernelspec": {
   "display_name": "Python 3 (ipykernel)",
   "language": "python",
   "name": "python3"
  },
  "language_info": {
   "codemirror_mode": {
    "name": "ipython",
    "version": 3
   },
   "file_extension": ".py",
   "mimetype": "text/x-python",
   "name": "python",
   "nbconvert_exporter": "python",
   "pygments_lexer": "ipython3",
   "version": "3.9.7"
  }
 },
 "nbformat": 4,
 "nbformat_minor": 5
}
