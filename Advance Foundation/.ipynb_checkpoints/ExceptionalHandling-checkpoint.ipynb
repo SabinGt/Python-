{
 "cells": [
  {
   "cell_type": "markdown",
   "id": "2590ef91",
   "metadata": {},
   "source": [
    "### try:\n",
    "### #Code\n",
    "### except:\n",
    "### #code"
   ]
  },
  {
   "cell_type": "code",
   "execution_count": 7,
   "id": "080ad8a0",
   "metadata": {},
   "outputs": [
    {
     "ename": "ZeroDivisionError",
     "evalue": "division by zero",
     "output_type": "error",
     "traceback": [
      "\u001b[1;31m---------------------------------------------------------------------------\u001b[0m",
      "\u001b[1;31mZeroDivisionError\u001b[0m                         Traceback (most recent call last)",
      "\u001b[1;32m~\\AppData\\Local\\Temp/ipykernel_6464/2643772380.py\u001b[0m in \u001b[0;36m<module>\u001b[1;34m\u001b[0m\n\u001b[0;32m      1\u001b[0m \u001b[0mx\u001b[0m\u001b[1;33m=\u001b[0m\u001b[1;36m4\u001b[0m\u001b[1;33m\u001b[0m\u001b[1;33m\u001b[0m\u001b[0m\n\u001b[0;32m      2\u001b[0m \u001b[0my\u001b[0m\u001b[1;33m=\u001b[0m\u001b[1;36m0\u001b[0m\u001b[1;33m\u001b[0m\u001b[1;33m\u001b[0m\u001b[0m\n\u001b[1;32m----> 3\u001b[1;33m \u001b[0mprint\u001b[0m\u001b[1;33m(\u001b[0m\u001b[0mx\u001b[0m\u001b[1;33m/\u001b[0m\u001b[0my\u001b[0m\u001b[1;33m)\u001b[0m\u001b[1;33m\u001b[0m\u001b[1;33m\u001b[0m\u001b[0m\n\u001b[0m",
      "\u001b[1;31mZeroDivisionError\u001b[0m: division by zero"
     ]
    }
   ],
   "source": [
    "x=4\n",
    "y=0\n",
    "print(x/y)"
   ]
  },
  {
   "cell_type": "code",
   "execution_count": 4,
   "id": "d3266e58",
   "metadata": {},
   "outputs": [
    {
     "name": "stdout",
     "output_type": "stream",
     "text": [
      "Zero division error\n",
      "the process has beeen complete\n"
     ]
    }
   ],
   "source": [
    "try:\n",
    "    x=4\n",
    "    y=0\n",
    "    print(x/y)\n",
    "except:\n",
    "    print(\"Zero division error\")\n",
    "print(\"the process has beeen complete\")"
   ]
  },
  {
   "cell_type": "code",
   "execution_count": 5,
   "id": "d46a4b4b",
   "metadata": {},
   "outputs": [
    {
     "name": "stdout",
     "output_type": "stream",
     "text": [
      "2.0\n",
      "the process has beeen complete\n"
     ]
    }
   ],
   "source": [
    "try:\n",
    "    x=4\n",
    "    y=2\n",
    "    print(x/y)\n",
    "except:\n",
    "    print(\"Zero division error\")\n",
    "print(\"the process has beeen complete\")"
   ]
  },
  {
   "cell_type": "code",
   "execution_count": 9,
   "id": "c7ed7b65",
   "metadata": {},
   "outputs": [
    {
     "name": "stdout",
     "output_type": "stream",
     "text": [
      "Zero division error\n",
      "the process has beeen complete\n"
     ]
    }
   ],
   "source": [
    "try:\n",
    "    x=4\n",
    "    y=0\n",
    "    print(x/y)\n",
    "except TypeError:\n",
    "    print(\"There is an error here\")\n",
    "except ZeroDivisionError:\n",
    "    print(\"Zero division error\")\n",
    "print(\"the process has beeen complete\")"
   ]
  },
  {
   "cell_type": "code",
   "execution_count": null,
   "id": "49cc791a",
   "metadata": {},
   "outputs": [],
   "source": []
  }
 ],
 "metadata": {
  "kernelspec": {
   "display_name": "Python 3 (ipykernel)",
   "language": "python",
   "name": "python3"
  },
  "language_info": {
   "codemirror_mode": {
    "name": "ipython",
    "version": 3
   },
   "file_extension": ".py",
   "mimetype": "text/x-python",
   "name": "python",
   "nbconvert_exporter": "python",
   "pygments_lexer": "ipython3",
   "version": "3.9.7"
  }
 },
 "nbformat": 4,
 "nbformat_minor": 5
}
