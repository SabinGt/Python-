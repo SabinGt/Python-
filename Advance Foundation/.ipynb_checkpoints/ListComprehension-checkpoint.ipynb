{
 "cells": [
  {
   "cell_type": "markdown",
   "id": "a8ac9cd9",
   "metadata": {},
   "source": [
    "### List comprehensions "
   ]
  },
  {
   "cell_type": "code",
   "execution_count": 1,
   "id": "3a268bf5",
   "metadata": {},
   "outputs": [
    {
     "data": {
      "text/plain": [
       "range(0, 6)"
      ]
     },
     "execution_count": 1,
     "metadata": {},
     "output_type": "execute_result"
    }
   ],
   "source": [
    "x = range(6)\n",
    "x"
   ]
  },
  {
   "cell_type": "code",
   "execution_count": 3,
   "id": "a28e2f8f",
   "metadata": {},
   "outputs": [],
   "source": [
    "evens = [n for n in x if n % 2 == 0]"
   ]
  },
  {
   "cell_type": "code",
   "execution_count": 4,
   "id": "30a57a16",
   "metadata": {},
   "outputs": [
    {
     "data": {
      "text/plain": [
       "[0, 2, 4]"
      ]
     },
     "execution_count": 4,
     "metadata": {},
     "output_type": "execute_result"
    }
   ],
   "source": [
    "evens"
   ]
  },
  {
   "cell_type": "code",
   "execution_count": 7,
   "id": "4a00ef6e",
   "metadata": {},
   "outputs": [],
   "source": [
    "#to create the list of odd numbers from 0 to 30\n",
    "y = range(31)\n"
   ]
  },
  {
   "cell_type": "code",
   "execution_count": 8,
   "id": "008bb1a9",
   "metadata": {},
   "outputs": [],
   "source": [
    "odds = [m for m in y if m % 2 != 0]"
   ]
  },
  {
   "cell_type": "code",
   "execution_count": 9,
   "id": "d52024a8",
   "metadata": {},
   "outputs": [
    {
     "data": {
      "text/plain": [
       "[1, 3, 5, 7, 9, 11, 13, 15, 17, 19, 21, 23, 25, 27, 29]"
      ]
     },
     "execution_count": 9,
     "metadata": {},
     "output_type": "execute_result"
    }
   ],
   "source": [
    "odds"
   ]
  },
  {
   "cell_type": "code",
   "execution_count": 10,
   "id": "b4707aec",
   "metadata": {},
   "outputs": [],
   "source": [
    "#list to have square number of 0 to 5"
   ]
  },
  {
   "cell_type": "code",
   "execution_count": 11,
   "id": "caa4b7b3",
   "metadata": {},
   "outputs": [],
   "source": [
    "z = range(6)"
   ]
  },
  {
   "cell_type": "code",
   "execution_count": 12,
   "id": "f00d1d16",
   "metadata": {},
   "outputs": [],
   "source": [
    "square_number= [n * n for n in x]"
   ]
  },
  {
   "cell_type": "code",
   "execution_count": 13,
   "id": "953e7f8f",
   "metadata": {},
   "outputs": [
    {
     "data": {
      "text/plain": [
       "[0, 1, 4, 9, 16, 25]"
      ]
     },
     "execution_count": 13,
     "metadata": {},
     "output_type": "execute_result"
    }
   ],
   "source": [
    "square_number"
   ]
  },
  {
   "cell_type": "markdown",
   "id": "8cdcea31",
   "metadata": {},
   "source": [
    "### set comprehension "
   ]
  },
  {
   "cell_type": "code",
   "execution_count": 14,
   "id": "f540c26d",
   "metadata": {},
   "outputs": [],
   "source": [
    "set_of_cubes = {n*n*n for n in x}"
   ]
  },
  {
   "cell_type": "code",
   "execution_count": 15,
   "id": "2527de32",
   "metadata": {},
   "outputs": [
    {
     "data": {
      "text/plain": [
       "{0, 1, 8, 27, 64, 125}"
      ]
     },
     "execution_count": 15,
     "metadata": {},
     "output_type": "execute_result"
    }
   ],
   "source": [
    "set_of_cubes"
   ]
  },
  {
   "cell_type": "code",
   "execution_count": null,
   "id": "5c2f87e4",
   "metadata": {},
   "outputs": [],
   "source": []
  }
 ],
 "metadata": {
  "kernelspec": {
   "display_name": "Python 3 (ipykernel)",
   "language": "python",
   "name": "python3"
  },
  "language_info": {
   "codemirror_mode": {
    "name": "ipython",
    "version": 3
   },
   "file_extension": ".py",
   "mimetype": "text/x-python",
   "name": "python",
   "nbconvert_exporter": "python",
   "pygments_lexer": "ipython3",
   "version": "3.9.7"
  }
 },
 "nbformat": 4,
 "nbformat_minor": 5
}
