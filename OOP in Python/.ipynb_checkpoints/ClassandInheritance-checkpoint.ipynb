{
 "cells": [
  {
   "cell_type": "markdown",
   "id": "a5449b05",
   "metadata": {},
   "source": [
    "### Python is an OOP\n",
    "### Class is user defined data strucutre for creating instances \n",
    "### Syntax: class class_Name:\n",
    "### Create instance or objects based on a class\n",
    "### Attributes and instance attributes\n",
    "### __init__(self) to know the initial state and tells python what the valuse are"
   ]
  },
  {
   "cell_type": "code",
   "execution_count": 1,
   "id": "99c66faf",
   "metadata": {},
   "outputs": [],
   "source": [
    "#class demo\n",
    "#pass keyword to create the empty class\n",
    "class Car:\n",
    "    pass"
   ]
  },
  {
   "cell_type": "code",
   "execution_count": 3,
   "id": "ddce18dd",
   "metadata": {},
   "outputs": [],
   "source": [
    "#object of class\n",
    "model1 = Car()"
   ]
  },
  {
   "cell_type": "code",
   "execution_count": 4,
   "id": "42d28248",
   "metadata": {},
   "outputs": [
    {
     "data": {
      "text/plain": [
       "'Red'"
      ]
     },
     "execution_count": 4,
     "metadata": {},
     "output_type": "execute_result"
    }
   ],
   "source": [
    "#accessing the attribute of classS\n",
    "class Car:\n",
    "    color = \"Red\"\n",
    "model2 = Car()\n",
    "model2.color"
   ]
  },
  {
   "cell_type": "code",
   "execution_count": 11,
   "id": "94b16ff3",
   "metadata": {},
   "outputs": [
    {
     "name": "stdout",
     "output_type": "stream",
     "text": [
      "Tesla\n",
      "Red\n"
     ]
    }
   ],
   "source": [
    "class Car:\n",
    "    def __init__(self,name,color):\n",
    "        self.name = name\n",
    "        self.color = color\n",
    "model = Car(\"Tesla\",\"Red\")\n",
    "print(model.name)\n",
    "print(model.color)"
   ]
  },
  {
   "cell_type": "code",
   "execution_count": 12,
   "id": "b0fce356",
   "metadata": {},
   "outputs": [],
   "source": [
    "class Employee:\n",
    "    def __init__(self,name,age):\n",
    "        self.name = name;\n",
    "        self.age = age\n",
    "    def message(self):\n",
    "        print(\"Name is : \", self.name)\n",
    "        print(\"Age is: \", self.age)\n"
   ]
  },
  {
   "cell_type": "code",
   "execution_count": 13,
   "id": "d2b17d9a",
   "metadata": {},
   "outputs": [],
   "source": [
    "employee = Employee(\"Ram\",30)"
   ]
  },
  {
   "cell_type": "code",
   "execution_count": 14,
   "id": "c14fdde5",
   "metadata": {},
   "outputs": [
    {
     "name": "stdout",
     "output_type": "stream",
     "text": [
      "Name is :  Ram\n",
      "Age is:  30\n"
     ]
    }
   ],
   "source": [
    "employee.message()"
   ]
  },
  {
   "cell_type": "code",
   "execution_count": 17,
   "id": "27adb447",
   "metadata": {},
   "outputs": [
    {
     "name": "stdout",
     "output_type": "stream",
     "text": [
      "shyam\n"
     ]
    }
   ],
   "source": [
    "#cahange the value of attribute \n",
    "employee.name = \"shyam\"\n",
    "print(employee.name)"
   ]
  },
  {
   "cell_type": "code",
   "execution_count": 18,
   "id": "12bc1333",
   "metadata": {},
   "outputs": [],
   "source": [
    "# use del keyword to delete\n",
    "# del employee\n",
    "#del employee.name"
   ]
  },
  {
   "cell_type": "markdown",
   "id": "924d9376",
   "metadata": {},
   "source": [
    "### Inheritance: creating class based on another existing class"
   ]
  },
  {
   "cell_type": "code",
   "execution_count": 19,
   "id": "5ecc64e7",
   "metadata": {},
   "outputs": [],
   "source": [
    "#inheriting the parent class into the child class\n",
    "class Manager(Employee):\n",
    "    pass"
   ]
  },
  {
   "cell_type": "code",
   "execution_count": 20,
   "id": "0a81ac89",
   "metadata": {},
   "outputs": [],
   "source": [
    "# creating the instance of the child class\n",
    "manager = Manager(\"Ram\",45)"
   ]
  },
  {
   "cell_type": "code",
   "execution_count": 21,
   "id": "1d60a00a",
   "metadata": {},
   "outputs": [
    {
     "name": "stdout",
     "output_type": "stream",
     "text": [
      "Name is :  Ram\n",
      "Age is:  45\n"
     ]
    }
   ],
   "source": [
    "#accessing the methods of parent class from the instance of child class\n",
    "manager.message()"
   ]
  },
  {
   "cell_type": "code",
   "execution_count": 25,
   "id": "1a69196b",
   "metadata": {},
   "outputs": [],
   "source": [
    "#use of init function inside the child class\n",
    "class Manager(Employee):\n",
    "    def __init__(self,name,age):\n",
    "        Employee.__init__(self,name,age)"
   ]
  },
  {
   "cell_type": "code",
   "execution_count": 26,
   "id": "7b98aee7",
   "metadata": {},
   "outputs": [],
   "source": [
    "manager1= Manager(\"Hari\",63)"
   ]
  },
  {
   "cell_type": "code",
   "execution_count": 28,
   "id": "b9724522",
   "metadata": {},
   "outputs": [
    {
     "name": "stdout",
     "output_type": "stream",
     "text": [
      "Name is :  Hari\n",
      "Age is:  63\n"
     ]
    }
   ],
   "source": [
    "manager1.message()"
   ]
  },
  {
   "cell_type": "code",
   "execution_count": 34,
   "id": "b436f73c",
   "metadata": {},
   "outputs": [],
   "source": [
    "#use of super keyword \n",
    "class Manager(Employee):\n",
    "    def __init__(self,name,age):\n",
    "        super().__init__(name,age)"
   ]
  },
  {
   "cell_type": "code",
   "execution_count": 36,
   "id": "a9d47dd8",
   "metadata": {
    "scrolled": false
   },
   "outputs": [
    {
     "name": "stdout",
     "output_type": "stream",
     "text": [
      "Name is :  John\n",
      "Age is:  16\n"
     ]
    }
   ],
   "source": [
    "manager2 = Manager(\"John\",16)\n",
    "manager2.message()"
   ]
  },
  {
   "cell_type": "code",
   "execution_count": 38,
   "id": "a4d6814e",
   "metadata": {},
   "outputs": [
    {
     "name": "stdout",
     "output_type": "stream",
     "text": [
      "111\n",
      "211\n"
     ]
    }
   ],
   "source": [
    "class Items:\n",
    "    def __init__(self, id):\n",
    "        self.id = id\n",
    "        id = 111\n",
    "        print(id)s\n",
    " \n",
    "ins_val = Items(211)\n",
    "print (ins_val.id)"
   ]
  },
  {
   "cell_type": "code",
   "execution_count": null,
   "id": "84067fe8",
   "metadata": {},
   "outputs": [],
   "source": []
  }
 ],
 "metadata": {
  "kernelspec": {
   "display_name": "Python 3 (ipykernel)",
   "language": "python",
   "name": "python3"
  },
  "language_info": {
   "codemirror_mode": {
    "name": "ipython",
    "version": 3
   },
   "file_extension": ".py",
   "mimetype": "text/x-python",
   "name": "python",
   "nbconvert_exporter": "python",
   "pygments_lexer": "ipython3",
   "version": "3.9.7"
  }
 },
 "nbformat": 4,
 "nbformat_minor": 5
}
