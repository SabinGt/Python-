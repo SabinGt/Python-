{
 "cells": [
  {
   "cell_type": "markdown",
   "id": "d0c0f1db",
   "metadata": {},
   "source": [
    "#### Tuple is immutable and ordered sequence \n",
    "#### syntax: (1,2,3) or tupple((1,2,3))"
   ]
  },
  {
   "cell_type": "code",
   "execution_count": 1,
   "id": "b74f94ce",
   "metadata": {},
   "outputs": [
    {
     "name": "stdout",
     "output_type": "stream",
     "text": [
      "(1, 2, 3, 4)\n",
      "(5, 6, 7)\n"
     ]
    }
   ],
   "source": [
    "#creating the tuples\n",
    "nums = tuple((1,2,3,4))\n",
    "nums1 = (5,6,7)\n",
    "print(nums)\n",
    "print(nums1)"
   ]
  },
  {
   "cell_type": "code",
   "execution_count": 2,
   "id": "1fed9627",
   "metadata": {},
   "outputs": [
    {
     "data": {
      "text/plain": [
       "1"
      ]
     },
     "execution_count": 2,
     "metadata": {},
     "output_type": "execute_result"
    }
   ],
   "source": [
    "#accessing through index\n",
    "nums[0]"
   ]
  },
  {
   "cell_type": "code",
   "execution_count": 3,
   "id": "e7d215ab",
   "metadata": {},
   "outputs": [
    {
     "data": {
      "text/plain": [
       "5"
      ]
     },
     "execution_count": 3,
     "metadata": {},
     "output_type": "execute_result"
    }
   ],
   "source": [
    "nums1[0]"
   ]
  },
  {
   "cell_type": "code",
   "execution_count": 5,
   "id": "0cab1cba",
   "metadata": {},
   "outputs": [
    {
     "name": "stdout",
     "output_type": "stream",
     "text": [
      "<class 'tuple'>\n",
      "<class 'tuple'>\n"
     ]
    }
   ],
   "source": [
    "#type of tuple\n",
    "print(type(nums))\n",
    "print(type(nums1))\n"
   ]
  },
  {
   "cell_type": "code",
   "execution_count": 6,
   "id": "b8aaec5c",
   "metadata": {},
   "outputs": [
    {
     "data": {
      "text/plain": [
       "4"
      ]
     },
     "execution_count": 6,
     "metadata": {},
     "output_type": "execute_result"
    }
   ],
   "source": [
    "#length of tuple \n",
    "len(nums)"
   ]
  },
  {
   "cell_type": "code",
   "execution_count": 12,
   "id": "4d90b524",
   "metadata": {},
   "outputs": [
    {
     "data": {
      "text/plain": [
       "(2, 3)"
      ]
     },
     "execution_count": 12,
     "metadata": {},
     "output_type": "execute_result"
    }
   ],
   "source": [
    "#slicing\n",
    "nums[1:3]"
   ]
  },
  {
   "cell_type": "code",
   "execution_count": 13,
   "id": "3cb2ea32",
   "metadata": {},
   "outputs": [
    {
     "data": {
      "text/plain": [
       "(1, 2, 3)"
      ]
     },
     "execution_count": 13,
     "metadata": {},
     "output_type": "execute_result"
    }
   ],
   "source": [
    "nums[:3]"
   ]
  },
  {
   "cell_type": "code",
   "execution_count": 14,
   "id": "cebe6379",
   "metadata": {},
   "outputs": [
    {
     "data": {
      "text/plain": [
       "(4,)"
      ]
     },
     "execution_count": 14,
     "metadata": {},
     "output_type": "execute_result"
    }
   ],
   "source": [
    "nums[3:]"
   ]
  },
  {
   "cell_type": "code",
   "execution_count": 15,
   "id": "2381e2f7",
   "metadata": {},
   "outputs": [
    {
     "ename": "TypeError",
     "evalue": "'tuple' object does not support item assignment",
     "output_type": "error",
     "traceback": [
      "\u001b[1;31m---------------------------------------------------------------------------\u001b[0m",
      "\u001b[1;31mTypeError\u001b[0m                                 Traceback (most recent call last)",
      "\u001b[1;32m~\\AppData\\Local\\Temp/ipykernel_2124/3269975844.py\u001b[0m in \u001b[0;36m<module>\u001b[1;34m\u001b[0m\n\u001b[1;32m----> 1\u001b[1;33m \u001b[0mnums\u001b[0m\u001b[1;33m[\u001b[0m\u001b[1;36m1\u001b[0m\u001b[1;33m]\u001b[0m \u001b[1;33m=\u001b[0m \u001b[1;36m10\u001b[0m\u001b[1;33m\u001b[0m\u001b[1;33m\u001b[0m\u001b[0m\n\u001b[0m",
      "\u001b[1;31mTypeError\u001b[0m: 'tuple' object does not support item assignment"
     ]
    }
   ],
   "source": [
    "nums[1] = 10"
   ]
  },
  {
   "cell_type": "code",
   "execution_count": 16,
   "id": "053efde6",
   "metadata": {},
   "outputs": [
    {
     "data": {
      "text/plain": [
       "True"
      ]
     },
     "execution_count": 16,
     "metadata": {},
     "output_type": "execute_result"
    }
   ],
   "source": [
    "#to check the present of items in tuple\n",
    "fruits=(\"orange\",\"banana\",\"mango\")\n",
    "\"orange\" in fruits"
   ]
  },
  {
   "cell_type": "code",
   "execution_count": 17,
   "id": "3a1a7685",
   "metadata": {},
   "outputs": [
    {
     "data": {
      "text/plain": [
       "True"
      ]
     },
     "execution_count": 17,
     "metadata": {},
     "output_type": "execute_result"
    }
   ],
   "source": [
    "\"grapes\" not in fruits"
   ]
  },
  {
   "cell_type": "code",
   "execution_count": 18,
   "id": "4cbb9809",
   "metadata": {},
   "outputs": [
    {
     "ename": "TypeError",
     "evalue": "'tuple' object doesn't support item deletion",
     "output_type": "error",
     "traceback": [
      "\u001b[1;31m---------------------------------------------------------------------------\u001b[0m",
      "\u001b[1;31mTypeError\u001b[0m                                 Traceback (most recent call last)",
      "\u001b[1;32m~\\AppData\\Local\\Temp/ipykernel_2124/1698491267.py\u001b[0m in \u001b[0;36m<module>\u001b[1;34m\u001b[0m\n\u001b[0;32m      1\u001b[0m \u001b[1;31m#to deletethe tupe\u001b[0m\u001b[1;33m\u001b[0m\u001b[1;33m\u001b[0m\u001b[0m\n\u001b[1;32m----> 2\u001b[1;33m \u001b[1;32mdel\u001b[0m \u001b[0mfruits\u001b[0m\u001b[1;33m[\u001b[0m\u001b[1;36m0\u001b[0m\u001b[1;33m]\u001b[0m\u001b[1;33m\u001b[0m\u001b[1;33m\u001b[0m\u001b[0m\n\u001b[0m",
      "\u001b[1;31mTypeError\u001b[0m: 'tuple' object doesn't support item deletion"
     ]
    }
   ],
   "source": [
    "#to deletethe tupe \n",
    "del fruits[0]"
   ]
  },
  {
   "cell_type": "code",
   "execution_count": 22,
   "id": "42b70aae",
   "metadata": {},
   "outputs": [
    {
     "name": "stdout",
     "output_type": "stream",
     "text": [
      "the original tuple is (1, 2, 3, 4, 5, 6, 7, 8)\n",
      "(1, 2, 3)\n",
      "(5, 6, 7, 8)\n",
      "after removing the fourth item (1, 2, 3, 5, 6, 7, 8)\n"
     ]
    }
   ],
   "source": [
    "# to remove item from the tuple \n",
    "#method 1 slicing and concatinating \n",
    "newTuple=(1,2,3,4,5,6,7,8)\n",
    "print(\"the original tuple is\",newTuple)\n",
    "print(newTuple[:3])\n",
    "print(newTuple[4:])\n",
    "newTuple = newTuple[:3]+newTuple[4:]\n",
    "print(\"after removing the fourth item\",newTuple)"
   ]
  },
  {
   "cell_type": "code",
   "execution_count": 25,
   "id": "e85e3c56",
   "metadata": {},
   "outputs": [
    {
     "name": "stdout",
     "output_type": "stream",
     "text": [
      "[10, 20, 30, 40, 50]\n",
      "(10, 20, 30, 50)\n"
     ]
    }
   ],
   "source": [
    "#method 2 is to convert the tuple into the list \n",
    "tuple1= (10,20,30,40,50)\n",
    "list1 = list(tuple1)\n",
    "print(list1)\n",
    "list1.pop(3)\n",
    "tuple2 = tuple(list1)\n",
    "print(tuple2)"
   ]
  },
  {
   "cell_type": "code",
   "execution_count": null,
   "id": "6b571ac5",
   "metadata": {},
   "outputs": [],
   "source": []
  }
 ],
 "metadata": {
  "kernelspec": {
   "display_name": "Python 3 (ipykernel)",
   "language": "python",
   "name": "python3"
  },
  "language_info": {
   "codemirror_mode": {
    "name": "ipython",
    "version": 3
   },
   "file_extension": ".py",
   "mimetype": "text/x-python",
   "name": "python",
   "nbconvert_exporter": "python",
   "pygments_lexer": "ipython3",
   "version": "3.9.7"
  }
 },
 "nbformat": 4,
 "nbformat_minor": 5
}
