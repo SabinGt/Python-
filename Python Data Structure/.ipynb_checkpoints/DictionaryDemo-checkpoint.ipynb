{
 "cells": [
  {
   "cell_type": "markdown",
   "id": "4e52dc7a",
   "metadata": {},
   "source": [
    "#### Dictionary is mutuable key value pair to store collections\n",
    "#### Syntax:{key:value} or dict({key:value})"
   ]
  },
  {
   "cell_type": "code",
   "execution_count": 1,
   "id": "ece014c2",
   "metadata": {},
   "outputs": [
    {
     "name": "stdout",
     "output_type": "stream",
     "text": [
      "{'Ronaldo': 36, 'Mesi': 34, 'Ram': 25}\n",
      "{'Hari': 14, 'Shyam': 15, 'Gita': 2}\n"
     ]
    }
   ],
   "source": [
    "#creating dictionaries \n",
    "dic1 = {\"Ronaldo\":36,\"Mesi\":34,\"Ram\":25}\n",
    "dic2 = dict({'Hari':14,\"Shyam\":15,\"Gita\":2})\n",
    "print(dic1)\n",
    "print(dic2)"
   ]
  },
  {
   "cell_type": "code",
   "execution_count": 2,
   "id": "d3c5b18e",
   "metadata": {},
   "outputs": [
    {
     "name": "stdout",
     "output_type": "stream",
     "text": [
      "{'Ronaldo': 36, 'Mesi': 34, 'Ram': 25} {'Hari': 14, 'Shyam': 15, 'Gita': 2}\n"
     ]
    }
   ],
   "source": [
    "print(dic1, dic2)"
   ]
  },
  {
   "cell_type": "code",
   "execution_count": 4,
   "id": "81eb2a78",
   "metadata": {},
   "outputs": [
    {
     "name": "stdout",
     "output_type": "stream",
     "text": [
      "<class 'dict'>\n",
      "<class 'dict'>\n"
     ]
    }
   ],
   "source": [
    "#type \n",
    "print(type(dic1))\n",
    "print(type(dic2))"
   ]
  },
  {
   "cell_type": "code",
   "execution_count": 5,
   "id": "ca808979",
   "metadata": {},
   "outputs": [],
   "source": [
    "#sequence of tuples\n",
    "Children = dict({\n",
    "    (\"Child1\",\"5\"),\n",
    "    (\"child2\",6),\n",
    "})"
   ]
  },
  {
   "cell_type": "code",
   "execution_count": 6,
   "id": "63bdb98a",
   "metadata": {},
   "outputs": [
    {
     "name": "stdout",
     "output_type": "stream",
     "text": [
      "{'Child1': '5', 'child2': 6}\n"
     ]
    }
   ],
   "source": [
    "print(Children)"
   ]
  },
  {
   "cell_type": "code",
   "execution_count": 9,
   "id": "a9171f61",
   "metadata": {},
   "outputs": [
    {
     "data": {
      "text/plain": [
       "36"
      ]
     },
     "execution_count": 9,
     "metadata": {},
     "output_type": "execute_result"
    }
   ],
   "source": [
    "#accesing the key\n",
    "dic1[\"Ronaldo\"]"
   ]
  },
  {
   "cell_type": "code",
   "execution_count": 10,
   "id": "53e50fb9",
   "metadata": {},
   "outputs": [],
   "source": [
    "#change the value of the items\n",
    "dic1[\"Ronaldo\"]=40"
   ]
  },
  {
   "cell_type": "code",
   "execution_count": 11,
   "id": "61a2e47b",
   "metadata": {},
   "outputs": [
    {
     "data": {
      "text/plain": [
       "{'Ronaldo': 40, 'Mesi': 34, 'Ram': 25}"
      ]
     },
     "execution_count": 11,
     "metadata": {},
     "output_type": "execute_result"
    }
   ],
   "source": [
    "dic1"
   ]
  },
  {
   "cell_type": "code",
   "execution_count": 13,
   "id": "f0bcb7db",
   "metadata": {},
   "outputs": [],
   "source": [
    "#to remove the item from the dict\n",
    "del dic1[\"Mesi\"]"
   ]
  },
  {
   "cell_type": "code",
   "execution_count": 14,
   "id": "31e7d7f6",
   "metadata": {},
   "outputs": [
    {
     "data": {
      "text/plain": [
       "{'Ronaldo': 40, 'Ram': 25}"
      ]
     },
     "execution_count": 14,
     "metadata": {},
     "output_type": "execute_result"
    }
   ],
   "source": [
    "dic1"
   ]
  },
  {
   "cell_type": "code",
   "execution_count": 15,
   "id": "938d7c9b",
   "metadata": {},
   "outputs": [
    {
     "data": {
      "text/plain": [
       "False"
      ]
     },
     "execution_count": 15,
     "metadata": {},
     "output_type": "execute_result"
    }
   ],
   "source": [
    "#to check the item present in dict or not \n",
    "\"Mesi\" in dic1"
   ]
  },
  {
   "cell_type": "code",
   "execution_count": 16,
   "id": "9c7782b9",
   "metadata": {},
   "outputs": [
    {
     "data": {
      "text/plain": [
       "True"
      ]
     },
     "execution_count": 16,
     "metadata": {},
     "output_type": "execute_result"
    }
   ],
   "source": [
    "\"Ronaldo\" in dic1"
   ]
  },
  {
   "cell_type": "code",
   "execution_count": null,
   "id": "145386d4",
   "metadata": {},
   "outputs": [],
   "source": []
  }
 ],
 "metadata": {
  "kernelspec": {
   "display_name": "Python 3 (ipykernel)",
   "language": "python",
   "name": "python3"
  },
  "language_info": {
   "codemirror_mode": {
    "name": "ipython",
    "version": 3
   },
   "file_extension": ".py",
   "mimetype": "text/x-python",
   "name": "python",
   "nbconvert_exporter": "python",
   "pygments_lexer": "ipython3",
   "version": "3.9.7"
  }
 },
 "nbformat": 4,
 "nbformat_minor": 5
}
