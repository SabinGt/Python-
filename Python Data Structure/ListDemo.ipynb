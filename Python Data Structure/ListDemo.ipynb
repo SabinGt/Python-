{
 "cells": [
  {
   "cell_type": "markdown",
   "id": "1a2473ac",
   "metadata": {},
   "source": [
    "#### A list is a mutuable and ordered collection of items \n",
    "#### List syntax: list((1,2,3)) or [1,2,3]"
   ]
  },
  {
   "cell_type": "code",
   "execution_count": 8,
   "id": "a5c57830",
   "metadata": {},
   "outputs": [
    {
     "name": "stdout",
     "output_type": "stream",
     "text": [
      "[]\n",
      "[]\n",
      "[] []\n"
     ]
    }
   ],
   "source": [
    "#list Creation \n",
    "new_list = []\n",
    "new_list1 = list()\n",
    "print(new_list)\n",
    "print(new_list1)\n",
    "print(new_list, new_list1)"
   ]
  },
  {
   "cell_type": "code",
   "execution_count": 9,
   "id": "651b1bba",
   "metadata": {},
   "outputs": [
    {
     "data": {
      "text/plain": [
       "list"
      ]
     },
     "execution_count": 9,
     "metadata": {},
     "output_type": "execute_result"
    }
   ],
   "source": [
    "#types of list\n",
    "type(new_list)"
   ]
  },
  {
   "cell_type": "code",
   "execution_count": 13,
   "id": "9d27c1ea",
   "metadata": {},
   "outputs": [
    {
     "name": "stdout",
     "output_type": "stream",
     "text": [
      "[1, 2, 3, 4, 5]\n",
      "[10, 20, 30]\n",
      "<class 'list'>\n",
      "<class 'list'>\n"
     ]
    }
   ],
   "source": [
    "#list of numbers\n",
    "nums = [1,2,3,4,5]\n",
    "nums1 = list((10,20,30))\n",
    "print(nums)\n",
    "print(nums1)\n",
    "print(type(nums))\n",
    "print(type(nums1))"
   ]
  },
  {
   "cell_type": "code",
   "execution_count": 15,
   "id": "52feb7e4",
   "metadata": {},
   "outputs": [
    {
     "name": "stdout",
     "output_type": "stream",
     "text": [
      "['i', 'am', 'a', 'boy']\n"
     ]
    }
   ],
   "source": [
    "#list of strings\n",
    "str_list = [\"i\", \"am\", \"a\",\"boy\"]\n",
    "print(str_list)"
   ]
  },
  {
   "cell_type": "code",
   "execution_count": 16,
   "id": "6258a953",
   "metadata": {},
   "outputs": [
    {
     "name": "stdout",
     "output_type": "stream",
     "text": [
      "the mixed list is ['Ram', 4, 4.5, True]\n"
     ]
    }
   ],
   "source": [
    "#Multiple types in list \n",
    "mixed_list= list((\"Ram\",4,4.5,True))\n",
    "print(\"the mixed list is\",mixed_list)"
   ]
  },
  {
   "cell_type": "code",
   "execution_count": 23,
   "id": "283fa86e",
   "metadata": {},
   "outputs": [
    {
     "name": "stdout",
     "output_type": "stream",
     "text": [
      "[1, 2, [4, 5, 6], 9]\n"
     ]
    }
   ],
   "source": [
    "#list in a list\n",
    "nums2 = [1,2,[4,5,6],9]\n",
    "print(nums2)"
   ]
  },
  {
   "cell_type": "code",
   "execution_count": 24,
   "id": "e1f3ddb5",
   "metadata": {},
   "outputs": [
    {
     "name": "stdout",
     "output_type": "stream",
     "text": [
      "[4, 5, 6]\n"
     ]
    }
   ],
   "source": [
    "#accessing list items with the index number \n",
    "print(nums2[2])"
   ]
  },
  {
   "cell_type": "code",
   "execution_count": 26,
   "id": "7b55e99a",
   "metadata": {},
   "outputs": [
    {
     "name": "stdout",
     "output_type": "stream",
     "text": [
      "6\n"
     ]
    }
   ],
   "source": [
    "print(nums2[2][2])"
   ]
  },
  {
   "cell_type": "code",
   "execution_count": 27,
   "id": "f1bfaa44",
   "metadata": {},
   "outputs": [
    {
     "name": "stdout",
     "output_type": "stream",
     "text": [
      "9\n"
     ]
    }
   ],
   "source": [
    "print(nums2[-1])"
   ]
  },
  {
   "cell_type": "code",
   "execution_count": 28,
   "id": "00183290",
   "metadata": {},
   "outputs": [
    {
     "data": {
      "text/plain": [
       "5"
      ]
     },
     "execution_count": 28,
     "metadata": {},
     "output_type": "execute_result"
    }
   ],
   "source": [
    "#knowing the number of items in list \n",
    "len(nums)"
   ]
  },
  {
   "cell_type": "code",
   "execution_count": 29,
   "id": "033766d0",
   "metadata": {},
   "outputs": [
    {
     "data": {
      "text/plain": [
       "4"
      ]
     },
     "execution_count": 29,
     "metadata": {},
     "output_type": "execute_result"
    }
   ],
   "source": [
    "len(nums2)"
   ]
  },
  {
   "cell_type": "code",
   "execution_count": 30,
   "id": "49f9763b",
   "metadata": {},
   "outputs": [
    {
     "data": {
      "text/plain": [
       "3"
      ]
     },
     "execution_count": 30,
     "metadata": {},
     "output_type": "execute_result"
    }
   ],
   "source": [
    "len(nums2[2])"
   ]
  },
  {
   "cell_type": "code",
   "execution_count": 31,
   "id": "c3d04a17",
   "metadata": {},
   "outputs": [
    {
     "data": {
      "text/plain": [
       "[1, 2]"
      ]
     },
     "execution_count": 31,
     "metadata": {},
     "output_type": "execute_result"
    }
   ],
   "source": [
    "#slicing\n",
    "#accessing the items of index 0 and 1 \n",
    "nums2[0:2]"
   ]
  },
  {
   "cell_type": "code",
   "execution_count": 32,
   "id": "1d83f0ab",
   "metadata": {},
   "outputs": [
    {
     "data": {
      "text/plain": [
       "[1, 2]"
      ]
     },
     "execution_count": 32,
     "metadata": {},
     "output_type": "execute_result"
    }
   ],
   "source": [
    "nums2[:2]"
   ]
  },
  {
   "cell_type": "code",
   "execution_count": 34,
   "id": "a8da3d18",
   "metadata": {},
   "outputs": [
    {
     "data": {
      "text/plain": [
       "[9]"
      ]
     },
     "execution_count": 34,
     "metadata": {},
     "output_type": "execute_result"
    }
   ],
   "source": [
    "nums2[3:]"
   ]
  },
  {
   "cell_type": "code",
   "execution_count": 35,
   "id": "ef12ada2",
   "metadata": {},
   "outputs": [
    {
     "data": {
      "text/plain": [
       "True"
      ]
     },
     "execution_count": 35,
     "metadata": {},
     "output_type": "execute_result"
    }
   ],
   "source": [
    "#checking if list has item\n",
    "colors = [\"red\", \"black\", \"white\"]\n",
    "\"white\" in colors\n"
   ]
  },
  {
   "cell_type": "code",
   "execution_count": 36,
   "id": "4ca4000f",
   "metadata": {},
   "outputs": [
    {
     "data": {
      "text/plain": [
       "False"
      ]
     },
     "execution_count": 36,
     "metadata": {},
     "output_type": "execute_result"
    }
   ],
   "source": [
    "\"orange\" in colors"
   ]
  },
  {
   "cell_type": "code",
   "execution_count": 37,
   "id": "f3b3a4fb",
   "metadata": {},
   "outputs": [
    {
     "name": "stdout",
     "output_type": "stream",
     "text": [
      "['red', 'black', 'white', 'yellow']\n"
     ]
    }
   ],
   "source": [
    "#add items to list at end of the list \n",
    "colors.append(\"yellow\")\n",
    "print(colors)"
   ]
  },
  {
   "cell_type": "code",
   "execution_count": 39,
   "id": "558fd422",
   "metadata": {},
   "outputs": [
    {
     "data": {
      "text/plain": [
       "['red', 'black', 'green', 'white', 'yellow']"
      ]
     },
     "execution_count": 39,
     "metadata": {},
     "output_type": "execute_result"
    }
   ],
   "source": [
    "#add items to an specific index\n",
    "colors.insert(2,\"green\")\n",
    "colors"
   ]
  },
  {
   "cell_type": "code",
   "execution_count": 40,
   "id": "8ccea9e4",
   "metadata": {},
   "outputs": [
    {
     "data": {
      "text/plain": [
       "'yellow'"
      ]
     },
     "execution_count": 40,
     "metadata": {},
     "output_type": "execute_result"
    }
   ],
   "source": [
    "#remove the last item \n",
    "colors.pop()"
   ]
  },
  {
   "cell_type": "code",
   "execution_count": 41,
   "id": "f07a3d46",
   "metadata": {},
   "outputs": [
    {
     "data": {
      "text/plain": [
       "['red', 'black', 'green', 'white']"
      ]
     },
     "execution_count": 41,
     "metadata": {},
     "output_type": "execute_result"
    }
   ],
   "source": [
    "colors"
   ]
  },
  {
   "cell_type": "code",
   "execution_count": 43,
   "id": "2063dd03",
   "metadata": {},
   "outputs": [
    {
     "data": {
      "text/plain": [
       "'green'"
      ]
     },
     "execution_count": 43,
     "metadata": {},
     "output_type": "execute_result"
    }
   ],
   "source": [
    "#to remove items from the specific index\n",
    "colors.pop(2)"
   ]
  },
  {
   "cell_type": "code",
   "execution_count": 45,
   "id": "939d624e",
   "metadata": {},
   "outputs": [
    {
     "data": {
      "text/plain": [
       "['red', 'black', 'white']"
      ]
     },
     "execution_count": 45,
     "metadata": {},
     "output_type": "execute_result"
    }
   ],
   "source": [
    "colors"
   ]
  },
  {
   "cell_type": "code",
   "execution_count": 47,
   "id": "75d4adfd",
   "metadata": {},
   "outputs": [
    {
     "data": {
      "text/plain": [
       "['red', 'black', 'white', 'indigo', 'Maron', 'Black']"
      ]
     },
     "execution_count": 47,
     "metadata": {},
     "output_type": "execute_result"
    }
   ],
   "source": [
    "#to add more that items \n",
    "colors.extend([\"indigo\",\"Maron\",\"Black\"])\n",
    "colors"
   ]
  },
  {
   "cell_type": "code",
   "execution_count": 50,
   "id": "b1f86db8",
   "metadata": {},
   "outputs": [
    {
     "data": {
      "text/plain": [
       "['white', 'indigo', 'Maron', 'Black']"
      ]
     },
     "execution_count": 50,
     "metadata": {},
     "output_type": "execute_result"
    }
   ],
   "source": [
    "#use of del keyword\n",
    "del colors[0]\n",
    "colors\n"
   ]
  },
  {
   "cell_type": "code",
   "execution_count": 51,
   "id": "b57b77cd",
   "metadata": {},
   "outputs": [],
   "source": [
    "#to change value of any index\n",
    "colors[0]=\"change\""
   ]
  },
  {
   "cell_type": "code",
   "execution_count": 52,
   "id": "7d83559a",
   "metadata": {},
   "outputs": [
    {
     "data": {
      "text/plain": [
       "['change', 'indigo', 'Maron', 'Black']"
      ]
     },
     "execution_count": 52,
     "metadata": {},
     "output_type": "execute_result"
    }
   ],
   "source": [
    "colors"
   ]
  },
  {
   "cell_type": "code",
   "execution_count": null,
   "id": "23ac45d1",
   "metadata": {},
   "outputs": [],
   "source": []
  }
 ],
 "metadata": {
  "kernelspec": {
   "display_name": "Python 3 (ipykernel)",
   "language": "python",
   "name": "python3"
  },
  "language_info": {
   "codemirror_mode": {
    "name": "ipython",
    "version": 3
   },
   "file_extension": ".py",
   "mimetype": "text/x-python",
   "name": "python",
   "nbconvert_exporter": "python",
   "pygments_lexer": "ipython3",
   "version": "3.9.7"
  }
 },
 "nbformat": 4,
 "nbformat_minor": 5
}
