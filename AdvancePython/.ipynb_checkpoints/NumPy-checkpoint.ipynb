{
 "cells": [
  {
   "cell_type": "markdown",
   "id": "26bb4642",
   "metadata": {},
   "source": [
    "### NumPy is an open source and free pyhton library for math and computation\n",
    "### Large number of functions to work with n-dimensional arrays\n",
    "### NumPy : Numerical Python\n",
    "### Importing: import numpy as np"
   ]
  },
  {
   "cell_type": "code",
   "execution_count": 1,
   "id": "abcd93d2",
   "metadata": {},
   "outputs": [],
   "source": [
    "import numpy as np"
   ]
  },
  {
   "cell_type": "code",
   "execution_count": 2,
   "id": "ef872ef1",
   "metadata": {},
   "outputs": [],
   "source": [
    "x = np.array([1,2,3,4])"
   ]
  },
  {
   "cell_type": "code",
   "execution_count": 3,
   "id": "15022147",
   "metadata": {},
   "outputs": [
    {
     "data": {
      "text/plain": [
       "array([1, 2, 3, 4])"
      ]
     },
     "execution_count": 3,
     "metadata": {},
     "output_type": "execute_result"
    }
   ],
   "source": [
    "x"
   ]
  },
  {
   "cell_type": "code",
   "execution_count": 4,
   "id": "79e22e57",
   "metadata": {},
   "outputs": [
    {
     "data": {
      "text/plain": [
       "numpy.ndarray"
      ]
     },
     "execution_count": 4,
     "metadata": {},
     "output_type": "execute_result"
    }
   ],
   "source": [
    "type(x)"
   ]
  },
  {
   "cell_type": "code",
   "execution_count": 5,
   "id": "afd2d09f",
   "metadata": {},
   "outputs": [],
   "source": [
    "y = np.zeros(5)"
   ]
  },
  {
   "cell_type": "code",
   "execution_count": 6,
   "id": "dd1ec9c0",
   "metadata": {},
   "outputs": [
    {
     "data": {
      "text/plain": [
       "array([0., 0., 0., 0., 0.])"
      ]
     },
     "execution_count": 6,
     "metadata": {},
     "output_type": "execute_result"
    }
   ],
   "source": [
    "y"
   ]
  },
  {
   "cell_type": "code",
   "execution_count": 7,
   "id": "c7e05066",
   "metadata": {},
   "outputs": [
    {
     "data": {
      "text/plain": [
       "array([1., 1., 1., 1., 1., 1.])"
      ]
     },
     "execution_count": 7,
     "metadata": {},
     "output_type": "execute_result"
    }
   ],
   "source": [
    "np.ones(6)"
   ]
  },
  {
   "cell_type": "code",
   "execution_count": 8,
   "id": "d1a9ace7",
   "metadata": {},
   "outputs": [
    {
     "data": {
      "text/plain": [
       "array([0.37027126, 0.45114068, 0.12527736, 0.28469455, 0.97967716])"
      ]
     },
     "execution_count": 8,
     "metadata": {},
     "output_type": "execute_result"
    }
   ],
   "source": [
    " np.random.random(5)"
   ]
  },
  {
   "cell_type": "markdown",
   "id": "298e6a7d",
   "metadata": {},
   "source": [
    "### mathematical operation for 1d arrays\n"
   ]
  },
  {
   "cell_type": "code",
   "execution_count": 9,
   "id": "4ee7ead9",
   "metadata": {},
   "outputs": [],
   "source": [
    "new_math = np.array([1,2,3])"
   ]
  },
  {
   "cell_type": "code",
   "execution_count": 10,
   "id": "e46abd62",
   "metadata": {},
   "outputs": [],
   "source": [
    "new_ones = np.ones(3)"
   ]
  },
  {
   "cell_type": "code",
   "execution_count": 12,
   "id": "f0c66fb2",
   "metadata": {},
   "outputs": [
    {
     "data": {
      "text/plain": [
       "array([2., 3., 4.])"
      ]
     },
     "execution_count": 12,
     "metadata": {},
     "output_type": "execute_result"
    }
   ],
   "source": [
    "np.add(new_math,new_ones)"
   ]
  },
  {
   "cell_type": "code",
   "execution_count": 15,
   "id": "4418205a",
   "metadata": {},
   "outputs": [
    {
     "data": {
      "text/plain": [
       "array([0., 1., 2.])"
      ]
     },
     "execution_count": 15,
     "metadata": {},
     "output_type": "execute_result"
    }
   ],
   "source": [
    "(new_math-new_ones)"
   ]
  },
  {
   "cell_type": "code",
   "execution_count": 17,
   "id": "e565ab9a",
   "metadata": {},
   "outputs": [
    {
     "data": {
      "text/plain": [
       "array([1., 2., 3.])"
      ]
     },
     "execution_count": 17,
     "metadata": {},
     "output_type": "execute_result"
    }
   ],
   "source": [
    "new_math * new_ones"
   ]
  },
  {
   "cell_type": "code",
   "execution_count": 18,
   "id": "83bba794",
   "metadata": {},
   "outputs": [
    {
     "data": {
      "text/plain": [
       "array([2, 4, 6])"
      ]
     },
     "execution_count": 18,
     "metadata": {},
     "output_type": "execute_result"
    }
   ],
   "source": [
    "new_math * 2"
   ]
  },
  {
   "cell_type": "code",
   "execution_count": 19,
   "id": "687a0ed7",
   "metadata": {},
   "outputs": [
    {
     "data": {
      "text/plain": [
       "array([3., 3., 3.])"
      ]
     },
     "execution_count": 19,
     "metadata": {},
     "output_type": "execute_result"
    }
   ],
   "source": [
    "new_ones * 3"
   ]
  },
  {
   "cell_type": "code",
   "execution_count": 21,
   "id": "3414198e",
   "metadata": {},
   "outputs": [
    {
     "data": {
      "text/plain": [
       "1"
      ]
     },
     "execution_count": 21,
     "metadata": {},
     "output_type": "execute_result"
    }
   ],
   "source": [
    "# indexing\n",
    "new_math[0]"
   ]
  },
  {
   "cell_type": "code",
   "execution_count": 22,
   "id": "495265fb",
   "metadata": {},
   "outputs": [
    {
     "data": {
      "text/plain": [
       "3"
      ]
     },
     "execution_count": 22,
     "metadata": {},
     "output_type": "execute_result"
    }
   ],
   "source": [
    "new_math[-1]"
   ]
  },
  {
   "cell_type": "markdown",
   "id": "7a21d8f7",
   "metadata": {},
   "source": [
    "### Math function "
   ]
  },
  {
   "cell_type": "code",
   "execution_count": 23,
   "id": "bd12708e",
   "metadata": {},
   "outputs": [
    {
     "data": {
      "text/plain": [
       "3"
      ]
     },
     "execution_count": 23,
     "metadata": {},
     "output_type": "execute_result"
    }
   ],
   "source": [
    "new_math.max()"
   ]
  },
  {
   "cell_type": "code",
   "execution_count": 24,
   "id": "34e20e51",
   "metadata": {},
   "outputs": [
    {
     "data": {
      "text/plain": [
       "1"
      ]
     },
     "execution_count": 24,
     "metadata": {},
     "output_type": "execute_result"
    }
   ],
   "source": [
    "new_math.min()\n"
   ]
  },
  {
   "cell_type": "code",
   "execution_count": 28,
   "id": "08a93691",
   "metadata": {},
   "outputs": [
    {
     "data": {
      "text/plain": [
       "6"
      ]
     },
     "execution_count": 28,
     "metadata": {},
     "output_type": "execute_result"
    }
   ],
   "source": [
    "new_math.sum()\n"
   ]
  },
  {
   "cell_type": "markdown",
   "id": "167c7fef",
   "metadata": {},
   "source": [
    "### nd arrays"
   ]
  },
  {
   "cell_type": "code",
   "execution_count": 32,
   "id": "c4de55fb",
   "metadata": {},
   "outputs": [],
   "source": [
    "arr = np.array([[10,20],[30,40]])"
   ]
  },
  {
   "cell_type": "code",
   "execution_count": 33,
   "id": "b3ff121f",
   "metadata": {},
   "outputs": [
    {
     "data": {
      "text/plain": [
       "array([[10, 20],\n",
       "       [30, 40]])"
      ]
     },
     "execution_count": 33,
     "metadata": {},
     "output_type": "execute_result"
    }
   ],
   "source": [
    "arr"
   ]
  },
  {
   "cell_type": "code",
   "execution_count": 34,
   "id": "c4c3641e",
   "metadata": {},
   "outputs": [
    {
     "data": {
      "text/plain": [
       "array([[1., 1.],\n",
       "       [1., 1.],\n",
       "       [1., 1.]])"
      ]
     },
     "execution_count": 34,
     "metadata": {},
     "output_type": "execute_result"
    }
   ],
   "source": [
    "#ones matrix with three rows and two columns\n",
    "np.ones((3,2))"
   ]
  },
  {
   "cell_type": "code",
   "execution_count": 35,
   "id": "437a1921",
   "metadata": {},
   "outputs": [
    {
     "data": {
      "text/plain": [
       "array([[0.68613045, 0.13801564, 0.4353867 ],\n",
       "       [0.88197382, 0.10154513, 0.04662933],\n",
       "       [0.91060313, 0.17227405, 0.69616651]])"
      ]
     },
     "execution_count": 35,
     "metadata": {},
     "output_type": "execute_result"
    }
   ],
   "source": [
    "np.random.random((3,3))"
   ]
  },
  {
   "cell_type": "code",
   "execution_count": 36,
   "id": "e3ee4586",
   "metadata": {},
   "outputs": [],
   "source": [
    "arr1 = np.array([[1,2],[3,3]])"
   ]
  },
  {
   "cell_type": "code",
   "execution_count": 37,
   "id": "2b28d354",
   "metadata": {},
   "outputs": [
    {
     "data": {
      "text/plain": [
       "array([[11, 22],\n",
       "       [33, 43]])"
      ]
     },
     "execution_count": 37,
     "metadata": {},
     "output_type": "execute_result"
    }
   ],
   "source": [
    "arr + arr1"
   ]
  },
  {
   "cell_type": "code",
   "execution_count": 39,
   "id": "892601c3",
   "metadata": {},
   "outputs": [
    {
     "data": {
      "text/plain": [
       "array([[ 9, 18],\n",
       "       [27, 37]])"
      ]
     },
     "execution_count": 39,
     "metadata": {},
     "output_type": "execute_result"
    }
   ],
   "source": [
    "arr - arr1"
   ]
  },
  {
   "cell_type": "code",
   "execution_count": 40,
   "id": "93775517",
   "metadata": {},
   "outputs": [
    {
     "data": {
      "text/plain": [
       "array([[ 70,  80],\n",
       "       [150, 180]])"
      ]
     },
     "execution_count": 40,
     "metadata": {},
     "output_type": "execute_result"
    }
   ],
   "source": [
    "arr.dot(arr1)"
   ]
  },
  {
   "cell_type": "code",
   "execution_count": 41,
   "id": "6af26b9b",
   "metadata": {},
   "outputs": [
    {
     "data": {
      "text/plain": [
       "40"
      ]
     },
     "execution_count": 41,
     "metadata": {},
     "output_type": "execute_result"
    }
   ],
   "source": [
    "arr.max()\n"
   ]
  },
  {
   "cell_type": "code",
   "execution_count": 42,
   "id": "668f956b",
   "metadata": {},
   "outputs": [
    {
     "data": {
      "text/plain": [
       "1"
      ]
     },
     "execution_count": 42,
     "metadata": {},
     "output_type": "execute_result"
    }
   ],
   "source": [
    "arr1.min()\n"
   ]
  },
  {
   "cell_type": "code",
   "execution_count": 43,
   "id": "d8f33680",
   "metadata": {},
   "outputs": [],
   "source": [
    "# indexing in matrix"
   ]
  },
  {
   "cell_type": "code",
   "execution_count": 44,
   "id": "19a3965d",
   "metadata": {},
   "outputs": [
    {
     "data": {
      "text/plain": [
       "20"
      ]
     },
     "execution_count": 44,
     "metadata": {},
     "output_type": "execute_result"
    }
   ],
   "source": [
    "arr[0][1]"
   ]
  },
  {
   "cell_type": "code",
   "execution_count": 45,
   "id": "b3f3f421",
   "metadata": {},
   "outputs": [
    {
     "data": {
      "text/plain": [
       "40"
      ]
     },
     "execution_count": 45,
     "metadata": {},
     "output_type": "execute_result"
    }
   ],
   "source": [
    "arr[-1][-1]"
   ]
  },
  {
   "cell_type": "code",
   "execution_count": 46,
   "id": "597b1d32",
   "metadata": {},
   "outputs": [
    {
     "data": {
      "text/plain": [
       "20"
      ]
     },
     "execution_count": 46,
     "metadata": {},
     "output_type": "execute_result"
    }
   ],
   "source": [
    "arr[0,1]"
   ]
  },
  {
   "cell_type": "code",
   "execution_count": 47,
   "id": "b7f40ea3",
   "metadata": {},
   "outputs": [
    {
     "data": {
      "text/plain": [
       "array([20, 40])"
      ]
     },
     "execution_count": 47,
     "metadata": {},
     "output_type": "execute_result"
    }
   ],
   "source": [
    "arr[0:2,1]"
   ]
  },
  {
   "cell_type": "code",
   "execution_count": 48,
   "id": "b6297def",
   "metadata": {},
   "outputs": [],
   "source": [
    "#reshaping the array"
   ]
  },
  {
   "cell_type": "code",
   "execution_count": 49,
   "id": "d354b57a",
   "metadata": {},
   "outputs": [],
   "source": [
    "new_data = np.array([1,2,3,4,5,6])"
   ]
  },
  {
   "cell_type": "code",
   "execution_count": 50,
   "id": "99adc29d",
   "metadata": {},
   "outputs": [
    {
     "data": {
      "text/plain": [
       "array([[1, 2, 3],\n",
       "       [4, 5, 6]])"
      ]
     },
     "execution_count": 50,
     "metadata": {},
     "output_type": "execute_result"
    }
   ],
   "source": [
    "new_data.reshape(2,3)"
   ]
  },
  {
   "cell_type": "code",
   "execution_count": 51,
   "id": "f2e9f903",
   "metadata": {},
   "outputs": [
    {
     "data": {
      "text/plain": [
       "array([[1, 2],\n",
       "       [3, 4],\n",
       "       [5, 6]])"
      ]
     },
     "execution_count": 51,
     "metadata": {},
     "output_type": "execute_result"
    }
   ],
   "source": [
    "new_data.reshape(3,2)"
   ]
  },
  {
   "cell_type": "code",
   "execution_count": 55,
   "id": "a6a96395",
   "metadata": {},
   "outputs": [],
   "source": [
    "x = np.array([[[10,20],[30,40]],[[50,60],[70,80]]])"
   ]
  },
  {
   "cell_type": "code",
   "execution_count": 56,
   "id": "b9922a87",
   "metadata": {},
   "outputs": [
    {
     "data": {
      "text/plain": [
       "array([[[10, 20],\n",
       "        [30, 40]],\n",
       "\n",
       "       [[50, 60],\n",
       "        [70, 80]]])"
      ]
     },
     "execution_count": 56,
     "metadata": {},
     "output_type": "execute_result"
    }
   ],
   "source": [
    "x"
   ]
  },
  {
   "cell_type": "code",
   "execution_count": 57,
   "id": "8bd857e4",
   "metadata": {},
   "outputs": [
    {
     "data": {
      "text/plain": [
       "array([[[1., 1., 1.],\n",
       "        [1., 1., 1.],\n",
       "        [1., 1., 1.]],\n",
       "\n",
       "       [[1., 1., 1.],\n",
       "        [1., 1., 1.],\n",
       "        [1., 1., 1.]],\n",
       "\n",
       "       [[1., 1., 1.],\n",
       "        [1., 1., 1.],\n",
       "        [1., 1., 1.]],\n",
       "\n",
       "       [[1., 1., 1.],\n",
       "        [1., 1., 1.],\n",
       "        [1., 1., 1.]],\n",
       "\n",
       "       [[1., 1., 1.],\n",
       "        [1., 1., 1.],\n",
       "        [1., 1., 1.]]])"
      ]
     },
     "execution_count": 57,
     "metadata": {},
     "output_type": "execute_result"
    }
   ],
   "source": [
    "np.ones((5,3,3))"
   ]
  },
  {
   "cell_type": "code",
   "execution_count": null,
   "id": "41ac9a54",
   "metadata": {},
   "outputs": [],
   "source": []
  }
 ],
 "metadata": {
  "kernelspec": {
   "display_name": "Python 3 (ipykernel)",
   "language": "python",
   "name": "python3"
  },
  "language_info": {
   "codemirror_mode": {
    "name": "ipython",
    "version": 3
   },
   "file_extension": ".py",
   "mimetype": "text/x-python",
   "name": "python",
   "nbconvert_exporter": "python",
   "pygments_lexer": "ipython3",
   "version": "3.9.7"
  }
 },
 "nbformat": 4,
 "nbformat_minor": 5
}
