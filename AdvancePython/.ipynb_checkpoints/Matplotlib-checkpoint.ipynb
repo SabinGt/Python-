{
 "cells": [
  {
   "cell_type": "markdown",
   "id": "51d11111",
   "metadata": {},
   "source": [
    "### matplotlib library"
   ]
  },
  {
   "cell_type": "code",
   "execution_count": 4,
   "id": "4491af94",
   "metadata": {},
   "outputs": [],
   "source": [
    "import matplotlib.pyplot as plt\n",
    "import numpy as np"
   ]
  },
  {
   "cell_type": "code",
   "execution_count": 6,
   "id": "9fb334ab",
   "metadata": {},
   "outputs": [],
   "source": [
    "new_data = np.arange(9)"
   ]
  },
  {
   "cell_type": "code",
   "execution_count": 7,
   "id": "db84c23e",
   "metadata": {},
   "outputs": [
    {
     "data": {
      "text/plain": [
       "array([0, 1, 2, 3, 4, 5, 6, 7, 8])"
      ]
     },
     "execution_count": 7,
     "metadata": {},
     "output_type": "execute_result"
    }
   ],
   "source": [
    "new_data"
   ]
  },
  {
   "cell_type": "code",
   "execution_count": 13,
   "id": "c7d2d4c6",
   "metadata": {},
   "outputs": [],
   "source": [
    "%matplotlib notebook"
   ]
  },
  {
   "cell_type": "code",
   "execution_count": 63,
   "id": "ab5d11d5",
   "metadata": {},
   "outputs": [],
   "source": [
    "%matplotlib inline"
   ]
  },
  {
   "cell_type": "code",
   "execution_count": 64,
   "id": "11f571ae",
   "metadata": {},
   "outputs": [
    {
     "data": {
      "text/plain": [
       "Text(0.5, 1.0, 'The new data graph')"
      ]
     },
     "execution_count": 64,
     "metadata": {},
     "output_type": "execute_result"
    },
    {
     "data": {
      "image/png": "[encoded data removed]",
      "text/plain": [
       "<Figure size 432x288 with 1 Axes>"
      ]
     },
     "metadata": {
      "needs_background": "light"
     },
     "output_type": "display_data"
    }
   ],
   "source": [
    "plt.title(\"The new data graph\")"
   ]
  },
  {
   "cell_type": "code",
   "execution_count": 18,
   "id": "8676aacb",
   "metadata": {},
   "outputs": [
    {
     "data": {
      "text/plain": [
       "Text(0.5, 6.912222222222221, 'xlabel')"
      ]
     },
     "execution_count": 18,
     "metadata": {},
     "output_type": "execute_result"
    }
   ],
   "source": [
    "plt.xlabel(\"xlabel\")"
   ]
  },
  {
   "cell_type": "code",
   "execution_count": 19,
   "id": "87901ff3",
   "metadata": {},
   "outputs": [
    {
     "data": {
      "text/plain": [
       "Text(42.84722222222222, 0.5, 'ylabel')"
      ]
     },
     "execution_count": 19,
     "metadata": {},
     "output_type": "execute_result"
    }
   ],
   "source": [
    "plt.ylabel(\"ylabel\")"
   ]
  },
  {
   "cell_type": "code",
   "execution_count": 66,
   "id": "b8ef8e39",
   "metadata": {
    "scrolled": true
   },
   "outputs": [
    {
     "data": {
      "text/plain": [
       "[<matplotlib.lines.Line2D at 0x13e608af070>]"
      ]
     },
     "execution_count": 66,
     "metadata": {},
     "output_type": "execute_result"
    },
    {
     "data": {
      "image/png": "[encoded data removed]",
      "text/plain": [
       "<Figure size 432x288 with 1 Axes>"
      ]
     },
     "metadata": {
      "needs_background": "light"
     },
     "output_type": "display_data"
    }
   ],
   "source": [
    "x = [1,2,3,4,5,6,7]\n",
    "y = [1,4,9,16,25,36,49]\n",
    "plt.plot(x,y)"
   ]
  },
  {
   "cell_type": "code",
   "execution_count": 67,
   "id": "aa3c077e",
   "metadata": {},
   "outputs": [],
   "source": [
    "data = np.arange(2,10,0.5)"
   ]
  },
  {
   "cell_type": "code",
   "execution_count": 68,
   "id": "714c4591",
   "metadata": {},
   "outputs": [
    {
     "data": {
      "text/plain": [
       "array([2. , 2.5, 3. , 3.5, 4. , 4.5, 5. , 5.5, 6. , 6.5, 7. , 7.5, 8. ,\n",
       "       8.5, 9. , 9.5])"
      ]
     },
     "execution_count": 68,
     "metadata": {},
     "output_type": "execute_result"
    }
   ],
   "source": [
    "data"
   ]
  },
  {
   "cell_type": "code",
   "execution_count": 69,
   "id": "51db92f6",
   "metadata": {},
   "outputs": [
    {
     "data": {
      "text/plain": [
       "[<matplotlib.lines.Line2D at 0x13e60909d90>,\n",
       " <matplotlib.lines.Line2D at 0x13e60909d60>,\n",
       " <matplotlib.lines.Line2D at 0x13e60909f40>]"
      ]
     },
     "execution_count": 69,
     "metadata": {},
     "output_type": "execute_result"
    },
    {
     "data": {
      "image/png": "[encoded data removed]",
      "text/plain": [
       "<Figure size 432x288 with 1 Axes>"
      ]
     },
     "metadata": {
      "needs_background": "light"
     },
     "output_type": "display_data"
    }
   ],
   "source": [
    "plt.plot(data, data, \"r--\", data, data ** 2, \"bd\", data,data**3,\"g^\")"
   ]
  },
  {
   "cell_type": "code",
   "execution_count": 32,
   "id": "a7ced1fc",
   "metadata": {},
   "outputs": [],
   "source": [
    "plt.savefig(\"graph.png\")"
   ]
  },
  {
   "cell_type": "code",
   "execution_count": 33,
   "id": "eb7432db",
   "metadata": {},
   "outputs": [],
   "source": [
    "classes = [\"classA\",\"classB\",\"classC\",\"classD\"]\n",
    "students = [40,50,30,45]"
   ]
  },
  {
   "cell_type": "code",
   "execution_count": 76,
   "id": "40738f05",
   "metadata": {},
   "outputs": [
    {
     "data": {
      "text/plain": [
       "([<matplotlib.axis.XTick at 0x13e5fc17dc0>,\n",
       "  <matplotlib.axis.XTick at 0x13e60ac8700>,\n",
       "  <matplotlib.axis.XTick at 0x13e60ac14c0>,\n",
       "  <matplotlib.axis.XTick at 0x13e60ae8eb0>],\n",
       " [Text(0, 0, 'classA'),\n",
       "  Text(1, 0, 'classB'),\n",
       "  Text(2, 0, 'classC'),\n",
       "  Text(3, 0, 'classD')])"
      ]
     },
     "execution_count": 76,
     "metadata": {},
     "output_type": "execute_result"
    },
    {
     "data": {
      "image/png": "[encoded data removed]",
      "text/plain": [
       "<Figure size 432x288 with 1 Axes>"
      ]
     },
     "metadata": {
      "needs_background": "light"
     },
     "output_type": "display_data"
    }
   ],
   "source": [
    "plt.bar(range(len(classes)),students)\n",
    "plt.title(\"The number of students in class \")\n",
    "plt.ylabel(\"Number of students\")\n",
    "plt.xticks(range(len(classes)),classes)"
   ]
  },
  {
   "cell_type": "markdown",
   "id": "180f83ef",
   "metadata": {},
   "source": [
    "## Histograms"
   ]
  },
  {
   "cell_type": "code",
   "execution_count": 57,
   "id": "f3e9fc31",
   "metadata": {},
   "outputs": [],
   "source": [
    "new_h = np.random.normal(145,20,230)"
   ]
  },
  {
   "cell_type": "code",
   "execution_count": 58,
   "id": "18ce7514",
   "metadata": {},
   "outputs": [
    {
     "data": {
      "text/plain": [
       "array([165.42151487, 152.53079178, 121.96895964, 153.73027991,\n",
       "       157.05869501, 117.46626436, 139.45928677, 167.99092903,\n",
       "       151.25074863, 118.00038192, 145.327146  , 145.96507125,\n",
       "       132.66160065, 146.83266631, 148.50866671, 130.11258143,\n",
       "       150.40253224, 134.41711241, 148.86965764, 144.03718802,\n",
       "       130.15359891, 165.71769904, 196.37470074, 126.40371442,\n",
       "       126.39328643, 155.13618823, 142.00289074, 143.45673518,\n",
       "       161.14540768, 129.67080056, 144.00447935, 188.20195634,\n",
       "       171.06765318, 167.19893824, 152.0835875 , 135.77429397,\n",
       "       172.95679136, 170.05517224, 153.5694214 , 122.5434884 ,\n",
       "        83.06821961, 141.17637259, 151.89124637, 147.30376564,\n",
       "       111.43085855, 164.6159299 , 154.09813505, 107.43526187,\n",
       "       106.10228203, 164.11180634, 139.64914697, 148.54997848,\n",
       "       163.42774661, 132.94389953, 143.49368257, 151.39544103,\n",
       "       134.82644658, 150.50162551, 147.35041432, 133.49371202,\n",
       "       131.02274678, 115.11177448, 156.12688252, 166.23156214,\n",
       "       120.78915493, 151.68901686, 138.18364411, 139.21470622,\n",
       "       144.62182071, 119.34628781, 141.1879398 , 126.74459771,\n",
       "       144.2507986 , 154.33252554, 170.0550124 , 143.69378087,\n",
       "       121.07922616, 144.84517785, 147.85871739, 137.1067024 ,\n",
       "       129.04368636, 116.66264037, 159.22816324, 135.08215502,\n",
       "       162.4069209 , 117.36829118, 140.32879891,  96.89094858,\n",
       "       121.05363009, 158.01616625, 110.51806051, 161.44592589,\n",
       "       187.00286635, 114.9703234 , 174.67854254, 191.50937894,\n",
       "       158.71287572, 110.96671234, 165.09685004, 170.52881854,\n",
       "       144.62184884, 128.49146961, 172.58444797, 153.02406087,\n",
       "       133.50041231, 136.81439066, 138.83049943, 124.10849169,\n",
       "       169.50665785, 168.71147466, 157.47180108, 133.46266205,\n",
       "       135.09474593, 107.71291607, 144.57934694, 126.8114384 ,\n",
       "       145.74237098, 137.96691705, 152.43849989, 128.77869112,\n",
       "       141.16564624, 166.76203759, 155.96454999, 166.8144766 ,\n",
       "       156.5801279 , 147.19396181, 125.83528213, 149.71483282,\n",
       "       142.91607366, 155.40431423, 121.62835371, 162.59062502,\n",
       "       197.80778822, 160.52324229, 144.91978003, 143.38793983,\n",
       "       143.66314386, 149.47863738, 143.95485463, 175.25209989,\n",
       "       149.5625321 , 148.68952923, 131.97794229, 138.13100131,\n",
       "       157.60969057, 118.01616179, 144.31902133, 181.43993412,\n",
       "       126.55977243, 130.23315061, 134.3787491 , 133.8576523 ,\n",
       "       144.52102048, 168.55059799, 177.81753263, 157.04924703,\n",
       "       132.30295199, 151.92231321, 153.33280573, 163.62980522,\n",
       "       132.64514627, 140.02642867, 146.80808797, 161.58397107,\n",
       "       163.4646917 , 133.0579511 , 140.57483392, 161.22051827,\n",
       "       146.27891367, 127.51395318, 148.78845909, 129.73802671,\n",
       "       130.14078367, 150.82737118, 157.49082414, 144.82550049,\n",
       "       160.25875382, 135.95161538, 133.81184471, 181.14221063,\n",
       "       144.39698779, 147.08022055, 152.90512248, 153.09565665,\n",
       "       121.56020888, 127.68312333, 152.92519732, 140.89656432,\n",
       "       162.02306734, 147.7415101 , 172.26630161, 143.54621336,\n",
       "       132.14943806, 167.04948808, 134.75002823, 146.90985638,\n",
       "       176.23937157, 166.5573638 , 147.66952287, 125.27155791,\n",
       "       171.07596779, 156.80831428, 125.72770659, 141.90250183,\n",
       "       121.52305789, 151.45051246, 168.59947586, 139.17681512,\n",
       "       175.57398126, 186.26783714, 154.61621818, 136.70156208,\n",
       "       129.4360868 , 132.86688032, 178.25141273, 175.94897677,\n",
       "       152.29122613, 181.47217711, 130.72679386, 167.7611189 ,\n",
       "       120.41057223, 150.46448204, 155.67822625, 133.07803653,\n",
       "       120.75315822, 148.08798366, 127.10999315, 128.95235399,\n",
       "       135.05062572, 151.17495454])"
      ]
     },
     "execution_count": 58,
     "metadata": {},
     "output_type": "execute_result"
    }
   ],
   "source": [
    "new_h"
   ]
  },
  {
   "cell_type": "code",
   "execution_count": 77,
   "id": "66ac991c",
   "metadata": {},
   "outputs": [
    {
     "data": {
      "text/plain": [
       "(array([ 1.,  1., 11., 28., 46., 60., 39., 29., 10.,  5.]),\n",
       " array([ 83.06821961,  94.54217647, 106.01613333, 117.49009019,\n",
       "        128.96404706, 140.43800392, 151.91196078, 163.38591764,\n",
       "        174.8598745 , 186.33383136, 197.80778822]),\n",
       " <BarContainer object of 10 artists>)"
      ]
     },
     "execution_count": 77,
     "metadata": {},
     "output_type": "execute_result"
    },
    {
     "data": {
      "image/png": "[encoded data removed]",
      "text/plain": [
       "<Figure size 432x288 with 1 Axes>"
      ]
     },
     "metadata": {
      "needs_background": "light"
     },
     "output_type": "display_data"
    }
   ],
   "source": [
    "plt.hist(new_h)"
   ]
  },
  {
   "cell_type": "markdown",
   "id": "4990a6f7",
   "metadata": {},
   "source": [
    "## pie chart"
   ]
  },
  {
   "cell_type": "code",
   "execution_count": 82,
   "id": "f64fa57b",
   "metadata": {},
   "outputs": [
    {
     "data": {
      "image/png": "[encoded data removed]",
      "text/plain": [
       "<Figure size 432x288 with 1 Axes>"
      ]
     },
     "metadata": {},
     "output_type": "display_data"
    }
   ],
   "source": [
    "x =  np.array([30,30,60,90])\n",
    "pi_labels = [\"first\",\"second\",\"third\",\"fourth\"]   \n",
    "plt.pie(x,labels = pi_labels)\n",
    "plt.show()"
   ]
  },
  {
   "cell_type": "code",
   "execution_count": null,
   "id": "e47c06c4",
   "metadata": {},
   "outputs": [],
   "source": []
  }
 ],
 "metadata": {
  "kernelspec": {
   "display_name": "Python 3 (ipykernel)",
   "language": "python",
   "name": "python3"
  },
  "language_info": {
   "codemirror_mode": {
    "name": "ipython",
    "version": 3
   },
   "file_extension": ".py",
   "mimetype": "text/x-python",
   "name": "python",
   "nbconvert_exporter": "python",
   "pygments_lexer": "ipython3",
   "version": "3.9.7"
  }
 },
 "nbformat": 4,
 "nbformat_minor": 5
}
