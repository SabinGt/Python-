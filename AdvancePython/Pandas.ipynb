{
 "cells": [
  {
   "cell_type": "markdown",
   "id": "877bc0f5",
   "metadata": {},
   "source": [
    "### pandas for data analysis and visulization\n",
    "### pandas data structure and analyze giles"
   ]
  },
  {
   "cell_type": "code",
   "execution_count": 1,
   "id": "afe464c2",
   "metadata": {},
   "outputs": [],
   "source": [
    "import pandas as pd"
   ]
  },
  {
   "cell_type": "code",
   "execution_count": 4,
   "id": "9d249c94",
   "metadata": {},
   "outputs": [],
   "source": [
    "new_s = pd.Series([100,200,300,400])"
   ]
  },
  {
   "cell_type": "code",
   "execution_count": 5,
   "id": "0e4840b2",
   "metadata": {},
   "outputs": [
    {
     "data": {
      "text/plain": [
       "0    100\n",
       "1    200\n",
       "2    300\n",
       "3    400\n",
       "dtype: int64"
      ]
     },
     "execution_count": 5,
     "metadata": {},
     "output_type": "execute_result"
    }
   ],
   "source": [
    "new_s"
   ]
  },
  {
   "cell_type": "code",
   "execution_count": 6,
   "id": "e9b0593b",
   "metadata": {},
   "outputs": [
    {
     "data": {
      "text/plain": [
       "100"
      ]
     },
     "execution_count": 6,
     "metadata": {},
     "output_type": "execute_result"
    }
   ],
   "source": [
    "new_s[0]"
   ]
  },
  {
   "cell_type": "code",
   "execution_count": 7,
   "id": "2d7bb7de",
   "metadata": {},
   "outputs": [],
   "source": [
    "next_index = pd.Series([1,2,3,4,5],index=[\"a\",\"b\",\"c\",\"d\",\"e\"])"
   ]
  },
  {
   "cell_type": "code",
   "execution_count": 8,
   "id": "9c38e5b3",
   "metadata": {},
   "outputs": [
    {
     "data": {
      "text/plain": [
       "a    1\n",
       "b    2\n",
       "c    3\n",
       "d    4\n",
       "e    5\n",
       "dtype: int64"
      ]
     },
     "execution_count": 8,
     "metadata": {},
     "output_type": "execute_result"
    }
   ],
   "source": [
    "next_index"
   ]
  },
  {
   "cell_type": "code",
   "execution_count": 37,
   "id": "cb4cb6e9",
   "metadata": {},
   "outputs": [],
   "source": [
    "# dataframe has two dimension rows and columns \n",
    "colors = [\"red\",\"green\",\"blue\",\"black\"]\n",
    "degree = [50,60,70,80]\n",
    "place = [\"ktm\",\"bkt\",\"ltp\",\"brt\"]\n",
    "\n",
    "newDf= pd.DataFrame({\"colors\":colors,\"degree\":degree,\"place\":place},\n",
    "                   columns = [\"colors\",\"degree\",\"place\"],\n",
    "                   index=range(1,5))"
   ]
  },
  {
   "cell_type": "code",
   "execution_count": 38,
   "id": "7a280566",
   "metadata": {},
   "outputs": [
    {
     "data": {
      "text/html": [
       "<div>\n",
       "<style scoped>\n",
       "    .dataframe tbody tr th:only-of-type {\n",
       "        vertical-align: middle;\n",
       "    }\n",
       "\n",
       "    .dataframe tbody tr th {\n",
       "        vertical-align: top;\n",
       "    }\n",
       "\n",
       "    .dataframe thead th {\n",
       "        text-align: right;\n",
       "    }\n",
       "</style>\n",
       "<table border=\"1\" class=\"dataframe\">\n",
       "  <thead>\n",
       "    <tr style=\"text-align: right;\">\n",
       "      <th></th>\n",
       "      <th>colors</th>\n",
       "      <th>degree</th>\n",
       "      <th>place</th>\n",
       "    </tr>\n",
       "  </thead>\n",
       "  <tbody>\n",
       "    <tr>\n",
       "      <th>1</th>\n",
       "      <td>red</td>\n",
       "      <td>50</td>\n",
       "      <td>ktm</td>\n",
       "    </tr>\n",
       "    <tr>\n",
       "      <th>2</th>\n",
       "      <td>green</td>\n",
       "      <td>60</td>\n",
       "      <td>bkt</td>\n",
       "    </tr>\n",
       "    <tr>\n",
       "      <th>3</th>\n",
       "      <td>blue</td>\n",
       "      <td>70</td>\n",
       "      <td>ltp</td>\n",
       "    </tr>\n",
       "    <tr>\n",
       "      <th>4</th>\n",
       "      <td>black</td>\n",
       "      <td>80</td>\n",
       "      <td>brt</td>\n",
       "    </tr>\n",
       "  </tbody>\n",
       "</table>\n",
       "</div>"
      ],
      "text/plain": [
       "  colors  degree place\n",
       "1    red      50   ktm\n",
       "2  green      60   bkt\n",
       "3   blue      70   ltp\n",
       "4  black      80   brt"
      ]
     },
     "execution_count": 38,
     "metadata": {},
     "output_type": "execute_result"
    }
   ],
   "source": [
    "newDf"
   ]
  },
  {
   "cell_type": "code",
   "execution_count": 21,
   "id": "2afd789c",
   "metadata": {},
   "outputs": [],
   "source": [
    "#to read csv file\n",
    "file_csv = pd.read_csv(\"addresses.csv\",low_memory=False)"
   ]
  },
  {
   "cell_type": "code",
   "execution_count": 22,
   "id": "68ec2c34",
   "metadata": {},
   "outputs": [
    {
     "data": {
      "text/html": [
       "<div>\n",
       "<style scoped>\n",
       "    .dataframe tbody tr th:only-of-type {\n",
       "        vertical-align: middle;\n",
       "    }\n",
       "\n",
       "    .dataframe tbody tr th {\n",
       "        vertical-align: top;\n",
       "    }\n",
       "\n",
       "    .dataframe thead th {\n",
       "        text-align: right;\n",
       "    }\n",
       "</style>\n",
       "<table border=\"1\" class=\"dataframe\">\n",
       "  <thead>\n",
       "    <tr style=\"text-align: right;\">\n",
       "      <th></th>\n",
       "      <th>John</th>\n",
       "      <th>Doe</th>\n",
       "      <th>120 jefferson st.</th>\n",
       "      <th>Riverside</th>\n",
       "      <th>NJ</th>\n",
       "      <th>08075</th>\n",
       "    </tr>\n",
       "  </thead>\n",
       "  <tbody>\n",
       "    <tr>\n",
       "      <th>0</th>\n",
       "      <td>Jack</td>\n",
       "      <td>McGinnis</td>\n",
       "      <td>220 hobo Av.</td>\n",
       "      <td>Phila</td>\n",
       "      <td>PA</td>\n",
       "      <td>9119</td>\n",
       "    </tr>\n",
       "    <tr>\n",
       "      <th>1</th>\n",
       "      <td>John \"Da Man\"</td>\n",
       "      <td>Repici</td>\n",
       "      <td>120 Jefferson St.</td>\n",
       "      <td>Riverside</td>\n",
       "      <td>NJ</td>\n",
       "      <td>8075</td>\n",
       "    </tr>\n",
       "    <tr>\n",
       "      <th>2</th>\n",
       "      <td>Stephen</td>\n",
       "      <td>Tyler</td>\n",
       "      <td>7452 Terrace \"At the Plaza\" road</td>\n",
       "      <td>SomeTown</td>\n",
       "      <td>SD</td>\n",
       "      <td>91234</td>\n",
       "    </tr>\n",
       "    <tr>\n",
       "      <th>3</th>\n",
       "      <td>NaN</td>\n",
       "      <td>Blankman</td>\n",
       "      <td>NaN</td>\n",
       "      <td>SomeTown</td>\n",
       "      <td>SD</td>\n",
       "      <td>298</td>\n",
       "    </tr>\n",
       "    <tr>\n",
       "      <th>4</th>\n",
       "      <td>Joan \"the bone\", Anne</td>\n",
       "      <td>Jet</td>\n",
       "      <td>9th, at Terrace plc</td>\n",
       "      <td>Desert City</td>\n",
       "      <td>CO</td>\n",
       "      <td>123</td>\n",
       "    </tr>\n",
       "  </tbody>\n",
       "</table>\n",
       "</div>"
      ],
      "text/plain": [
       "                    John       Doe                 120 jefferson st.  \\\n",
       "0                   Jack  McGinnis                      220 hobo Av.   \n",
       "1          John \"Da Man\"    Repici                 120 Jefferson St.   \n",
       "2                Stephen     Tyler  7452 Terrace \"At the Plaza\" road   \n",
       "3                    NaN  Blankman                               NaN   \n",
       "4  Joan \"the bone\", Anne       Jet               9th, at Terrace plc   \n",
       "\n",
       "     Riverside   NJ   08075  \n",
       "0        Phila   PA    9119  \n",
       "1    Riverside   NJ    8075  \n",
       "2     SomeTown   SD   91234  \n",
       "3     SomeTown   SD     298  \n",
       "4  Desert City   CO     123  "
      ]
     },
     "execution_count": 22,
     "metadata": {},
     "output_type": "execute_result"
    }
   ],
   "source": [
    "file_csv"
   ]
  },
  {
   "cell_type": "code",
   "execution_count": 23,
   "id": "6d57dbbf",
   "metadata": {},
   "outputs": [
    {
     "data": {
      "text/html": [
       "<div>\n",
       "<style scoped>\n",
       "    .dataframe tbody tr th:only-of-type {\n",
       "        vertical-align: middle;\n",
       "    }\n",
       "\n",
       "    .dataframe tbody tr th {\n",
       "        vertical-align: top;\n",
       "    }\n",
       "\n",
       "    .dataframe thead th {\n",
       "        text-align: right;\n",
       "    }\n",
       "</style>\n",
       "<table border=\"1\" class=\"dataframe\">\n",
       "  <thead>\n",
       "    <tr style=\"text-align: right;\">\n",
       "      <th></th>\n",
       "      <th>John</th>\n",
       "      <th>Doe</th>\n",
       "      <th>120 jefferson st.</th>\n",
       "      <th>Riverside</th>\n",
       "      <th>NJ</th>\n",
       "      <th>08075</th>\n",
       "    </tr>\n",
       "  </thead>\n",
       "  <tbody>\n",
       "    <tr>\n",
       "      <th>0</th>\n",
       "      <td>Jack</td>\n",
       "      <td>McGinnis</td>\n",
       "      <td>220 hobo Av.</td>\n",
       "      <td>Phila</td>\n",
       "      <td>PA</td>\n",
       "      <td>9119</td>\n",
       "    </tr>\n",
       "    <tr>\n",
       "      <th>1</th>\n",
       "      <td>John \"Da Man\"</td>\n",
       "      <td>Repici</td>\n",
       "      <td>120 Jefferson St.</td>\n",
       "      <td>Riverside</td>\n",
       "      <td>NJ</td>\n",
       "      <td>8075</td>\n",
       "    </tr>\n",
       "    <tr>\n",
       "      <th>2</th>\n",
       "      <td>Stephen</td>\n",
       "      <td>Tyler</td>\n",
       "      <td>7452 Terrace \"At the Plaza\" road</td>\n",
       "      <td>SomeTown</td>\n",
       "      <td>SD</td>\n",
       "      <td>91234</td>\n",
       "    </tr>\n",
       "  </tbody>\n",
       "</table>\n",
       "</div>"
      ],
      "text/plain": [
       "            John       Doe                 120 jefferson st.  Riverside   NJ  \\\n",
       "0           Jack  McGinnis                      220 hobo Av.      Phila   PA   \n",
       "1  John \"Da Man\"    Repici                 120 Jefferson St.  Riverside   NJ   \n",
       "2        Stephen     Tyler  7452 Terrace \"At the Plaza\" road   SomeTown   SD   \n",
       "\n",
       "    08075  \n",
       "0    9119  \n",
       "1    8075  \n",
       "2   91234  "
      ]
     },
     "execution_count": 23,
     "metadata": {},
     "output_type": "execute_result"
    }
   ],
   "source": [
    "file_csv.head(3)"
   ]
  },
  {
   "cell_type": "code",
   "execution_count": 24,
   "id": "7e00a53c",
   "metadata": {},
   "outputs": [],
   "source": [
    "# read content inside the html file\n",
    "url1=\"https://en.wikipedia.org/wiki/Academy_Awards\""
   ]
  },
  {
   "cell_type": "code",
   "execution_count": 25,
   "id": "673bebe1",
   "metadata": {},
   "outputs": [],
   "source": [
    "new_html = pd.read_html(url1, header = 0,index_col=0)[3]"
   ]
  },
  {
   "cell_type": "code",
   "execution_count": 26,
   "id": "540cd4c5",
   "metadata": {},
   "outputs": [
    {
     "data": {
      "text/html": [
       "<div>\n",
       "<style scoped>\n",
       "    .dataframe tbody tr th:only-of-type {\n",
       "        vertical-align: middle;\n",
       "    }\n",
       "\n",
       "    .dataframe tbody tr th {\n",
       "        vertical-align: top;\n",
       "    }\n",
       "\n",
       "    .dataframe thead th {\n",
       "        text-align: right;\n",
       "    }\n",
       "</style>\n",
       "<table border=\"1\" class=\"dataframe\">\n",
       "  <thead>\n",
       "    <tr style=\"text-align: right;\">\n",
       "      <th></th>\n",
       "      <th>Unnamed: 1</th>\n",
       "      <th>Unnamed: 2</th>\n",
       "    </tr>\n",
       "  </thead>\n",
       "  <tbody>\n",
       "    <tr>\n",
       "      <th>Award</th>\n",
       "      <td>Best Actor</td>\n",
       "      <td>Best Actress</td>\n",
       "    </tr>\n",
       "    <tr>\n",
       "      <th>Winner</th>\n",
       "      <td>Anthony Hopkins(The Father)</td>\n",
       "      <td>Frances McDormand(Nomadland)</td>\n",
       "    </tr>\n",
       "    <tr>\n",
       "      <th>NaN</th>\n",
       "      <td>NaN</td>\n",
       "      <td>NaN</td>\n",
       "    </tr>\n",
       "    <tr>\n",
       "      <th>Award</th>\n",
       "      <td>Best Supporting Actor</td>\n",
       "      <td>Best Supporting Actress</td>\n",
       "    </tr>\n",
       "    <tr>\n",
       "      <th>Winner</th>\n",
       "      <td>Daniel Kaluuya(Judas and the Black Messiah)</td>\n",
       "      <td>Youn Yuh-jung(Minari)</td>\n",
       "    </tr>\n",
       "  </tbody>\n",
       "</table>\n",
       "</div>"
      ],
      "text/plain": [
       "                                         Unnamed: 1  \\\n",
       "Award                                    Best Actor   \n",
       "Winner                  Anthony Hopkins(The Father)   \n",
       "NaN                                             NaN   \n",
       "Award                         Best Supporting Actor   \n",
       "Winner  Daniel Kaluuya(Judas and the Black Messiah)   \n",
       "\n",
       "                          Unnamed: 2  \n",
       "Award                   Best Actress  \n",
       "Winner  Frances McDormand(Nomadland)  \n",
       "NaN                              NaN  \n",
       "Award        Best Supporting Actress  \n",
       "Winner         Youn Yuh-jung(Minari)  "
      ]
     },
     "execution_count": 26,
     "metadata": {},
     "output_type": "execute_result"
    }
   ],
   "source": [
    "new_html.head(5)"
   ]
  },
  {
   "cell_type": "code",
   "execution_count": 29,
   "id": "0a196dc5",
   "metadata": {},
   "outputs": [
    {
     "data": {
      "text/plain": [
       "(4, 3)"
      ]
     },
     "execution_count": 29,
     "metadata": {},
     "output_type": "execute_result"
    }
   ],
   "source": [
    "newDf.shape"
   ]
  },
  {
   "cell_type": "code",
   "execution_count": 30,
   "id": "3d1eb13e",
   "metadata": {},
   "outputs": [
    {
     "name": "stdout",
     "output_type": "stream",
     "text": [
      "<class 'pandas.core.frame.DataFrame'>\n",
      "RangeIndex: 4 entries, 1 to 4\n",
      "Data columns (total 3 columns):\n",
      " #   Column   Non-Null Count  Dtype \n",
      "---  ------   --------------  ----- \n",
      " 0   colors   4 non-null      object\n",
      " 1   degrees  4 non-null      int64 \n",
      " 2   places   4 non-null      object\n",
      "dtypes: int64(1), object(2)\n",
      "memory usage: 228.0+ bytes\n"
     ]
    }
   ],
   "source": [
    "newDf.info()"
   ]
  },
  {
   "cell_type": "code",
   "execution_count": 31,
   "id": "6b2edf89",
   "metadata": {},
   "outputs": [
    {
     "name": "stdout",
     "output_type": "stream",
     "text": [
      "<class 'pandas.core.frame.DataFrame'>\n",
      "RangeIndex: 5 entries, 0 to 4\n",
      "Data columns (total 6 columns):\n",
      " #   Column             Non-Null Count  Dtype \n",
      "---  ------             --------------  ----- \n",
      " 0   John               4 non-null      object\n",
      " 1   Doe                5 non-null      object\n",
      " 2   120 jefferson st.  4 non-null      object\n",
      " 3   Riverside          5 non-null      object\n",
      " 4    NJ                5 non-null      object\n",
      " 5    08075             5 non-null      int64 \n",
      "dtypes: int64(1), object(5)\n",
      "memory usage: 368.0+ bytes\n"
     ]
    }
   ],
   "source": [
    "file_csv.info()\n"
   ]
  },
  {
   "cell_type": "code",
   "execution_count": 32,
   "id": "85ff220d",
   "metadata": {},
   "outputs": [
    {
     "data": {
      "text/html": [
       "<div>\n",
       "<style scoped>\n",
       "    .dataframe tbody tr th:only-of-type {\n",
       "        vertical-align: middle;\n",
       "    }\n",
       "\n",
       "    .dataframe tbody tr th {\n",
       "        vertical-align: top;\n",
       "    }\n",
       "\n",
       "    .dataframe thead th {\n",
       "        text-align: right;\n",
       "    }\n",
       "</style>\n",
       "<table border=\"1\" class=\"dataframe\">\n",
       "  <thead>\n",
       "    <tr style=\"text-align: right;\">\n",
       "      <th></th>\n",
       "      <th>08075</th>\n",
       "    </tr>\n",
       "  </thead>\n",
       "  <tbody>\n",
       "    <tr>\n",
       "      <th>count</th>\n",
       "      <td>5.000000</td>\n",
       "    </tr>\n",
       "    <tr>\n",
       "      <th>mean</th>\n",
       "      <td>21769.800000</td>\n",
       "    </tr>\n",
       "    <tr>\n",
       "      <th>std</th>\n",
       "      <td>39059.209909</td>\n",
       "    </tr>\n",
       "    <tr>\n",
       "      <th>min</th>\n",
       "      <td>123.000000</td>\n",
       "    </tr>\n",
       "    <tr>\n",
       "      <th>25%</th>\n",
       "      <td>298.000000</td>\n",
       "    </tr>\n",
       "    <tr>\n",
       "      <th>50%</th>\n",
       "      <td>8075.000000</td>\n",
       "    </tr>\n",
       "    <tr>\n",
       "      <th>75%</th>\n",
       "      <td>9119.000000</td>\n",
       "    </tr>\n",
       "    <tr>\n",
       "      <th>max</th>\n",
       "      <td>91234.000000</td>\n",
       "    </tr>\n",
       "  </tbody>\n",
       "</table>\n",
       "</div>"
      ],
      "text/plain": [
       "              08075\n",
       "count      5.000000\n",
       "mean   21769.800000\n",
       "std    39059.209909\n",
       "min      123.000000\n",
       "25%      298.000000\n",
       "50%     8075.000000\n",
       "75%     9119.000000\n",
       "max    91234.000000"
      ]
     },
     "execution_count": 32,
     "metadata": {},
     "output_type": "execute_result"
    }
   ],
   "source": [
    "file_csv.describe()"
   ]
  },
  {
   "cell_type": "code",
   "execution_count": 44,
   "id": "6226f3fc",
   "metadata": {},
   "outputs": [
    {
     "data": {
      "text/plain": [
       "degree    70\n",
       "Name: 3, dtype: object"
      ]
     },
     "execution_count": 44,
     "metadata": {},
     "output_type": "execute_result"
    }
   ],
   "source": [
    "newDf.loc[newDf[\"degree\"].argmax()][[\"degree\"]]"
   ]
  },
  {
   "cell_type": "code",
   "execution_count": 46,
   "id": "2d8cd75d",
   "metadata": {},
   "outputs": [],
   "source": [
    "#read the excel file"
   ]
  },
  {
   "cell_type": "code",
   "execution_count": 57,
   "id": "bfa82301",
   "metadata": {},
   "outputs": [],
   "source": [
    "new_excel = pd.read_excel(\"Financial Sample.xlsx\" , sheet_name = 0)"
   ]
  },
  {
   "cell_type": "code",
   "execution_count": 58,
   "id": "3a6d2ceb",
   "metadata": {
    "scrolled": true
   },
   "outputs": [
    {
     "name": "stdout",
     "output_type": "stream",
     "text": [
      "      Segment  Country    Product Discount Band  Units Sold  \\\n",
      "0  Government   Canada  Carretera          None      1618.5   \n",
      "1  Government  Germany  Carretera          None      1321.0   \n",
      "2   Midmarket   France  Carretera          None      2178.0   \n",
      "3   Midmarket  Germany  Carretera          None       888.0   \n",
      "4   Midmarket   Mexico  Carretera          None      2470.0   \n",
      "5  Government  Germany  Carretera          None      1513.0   \n",
      "\n",
      "   Manufacturing Price  Sale Price  Gross Sales  Discounts     Sales  \\\n",
      "0                    3          20      32370.0        0.0   32370.0   \n",
      "1                    3          20      26420.0        0.0   26420.0   \n",
      "2                    3          15      32670.0        0.0   32670.0   \n",
      "3                    3          15      13320.0        0.0   13320.0   \n",
      "4                    3          15      37050.0        0.0   37050.0   \n",
      "5                    3         350     529550.0        0.0  529550.0   \n",
      "\n",
      "       COGS    Profit       Date  Month Number Month Name  Year  \n",
      "0   16185.0   16185.0 2014-01-01             1    January  2014  \n",
      "1   13210.0   13210.0 2014-01-01             1    January  2014  \n",
      "2   21780.0   10890.0 2014-06-01             6       June  2014  \n",
      "3    8880.0    4440.0 2014-06-01             6       June  2014  \n",
      "4   24700.0   12350.0 2014-06-01             6       June  2014  \n",
      "5  393380.0  136170.0 2014-12-01            12   December  2014  \n"
     ]
    }
   ],
   "source": [
    "print(new_excel.head(6))"
   ]
  },
  {
   "cell_type": "code",
   "execution_count": null,
   "id": "d31cb921",
   "metadata": {},
   "outputs": [],
   "source": [
    "## to read json file read_json()"
   ]
  }
 ],
 "metadata": {
  "kernelspec": {
   "display_name": "Python 3 (ipykernel)",
   "language": "python",
   "name": "python3"
  },
  "language_info": {
   "codemirror_mode": {
    "name": "ipython",
    "version": 3
   },
   "file_extension": ".py",
   "mimetype": "text/x-python",
   "name": "python",
   "nbconvert_exporter": "python",
   "pygments_lexer": "ipython3",
   "version": "3.9.7"
  }
 },
 "nbformat": 4,
 "nbformat_minor": 5
}
